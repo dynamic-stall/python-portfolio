{
 "cells": [
  {
   "cell_type": "markdown",
   "metadata": {},
   "source": [
    "## Email w/ Python"
   ]
  },
  {
   "cell_type": "code",
   "execution_count": null,
   "metadata": {},
   "outputs": [],
   "source": [
    "import smtplib\n",
    "import getpass"
   ]
  },
  {
   "cell_type": "code",
   "execution_count": 2,
   "metadata": {},
   "outputs": [
    {
     "data": {
      "text/plain": [
       "(250,\n",
       " b'smtp.gmail.com at your service, [73.244.171.6]\\nSIZE 35882577\\n8BITMIME\\nSTARTTLS\\nENHANCEDSTATUSCODES\\nPIPELINING\\nCHUNKING\\nSMTPUTF8')"
      ]
     },
     "execution_count": 2,
     "metadata": {},
     "output_type": "execute_result"
    }
   ],
   "source": [
    "smtp_obj = smtplib.SMTP('smtp.gmail.com', 587)\n",
    "\n",
    "smtp_obj.ehlo()"
   ]
  },
  {
   "cell_type": "code",
   "execution_count": 3,
   "metadata": {},
   "outputs": [
    {
     "data": {
      "text/plain": [
       "(220, b'2.0.0 Ready to start TLS')"
      ]
     },
     "execution_count": 3,
     "metadata": {},
     "output_type": "execute_result"
    }
   ],
   "source": [
    "smtp_obj.starttls()"
   ]
  },
  {
   "cell_type": "code",
   "execution_count": null,
   "metadata": {},
   "outputs": [],
   "source": []
  },
  {
   "cell_type": "code",
   "execution_count": null,
   "metadata": {},
   "outputs": [],
   "source": []
  },
  {
   "cell_type": "markdown",
   "metadata": {},
   "source": [
    "### GMail API Test\n",
    "### ======================================================"
   ]
  },
  {
   "cell_type": "code",
   "execution_count": 9,
   "metadata": {},
   "outputs": [],
   "source": [
    "from google_auth_oauthlib.flow import InstalledAppFlow\n",
    "from google.auth.transport.requests import Request\n",
    "from google.oauth2.credentials import Credentials\n",
    "from googleapiclient.discovery import build\n",
    "from email.mime.text import MIMEText\n",
    "import base64\n",
    "import os.path\n",
    "import pickle\n",
    "from datetime import datetime"
   ]
  },
  {
   "cell_type": "markdown",
   "metadata": {},
   "source": [
    "Packages to install in your env :\n",
    "\n",
    "```bash\n",
    "pip install google-api-python-client google-auth-httplib2 google-auth-oauthlib\n",
    "```"
   ]
  },
  {
   "cell_type": "markdown",
   "metadata": {},
   "source": [
    "GCP Service account:  ```moneypenny@python-resource-mgt.iam.gserviceaccount.com```"
   ]
  },
  {
   "cell_type": "markdown",
   "metadata": {},
   "source": [
    "### OAuth Scopes:\n",
    "\n",
    "* Gmail:\n",
    "    * ```https://www.googleapis.com/auth/gmail.modify```\n",
    "    * ```https://www.googleapis.com/auth/gmail.labels```\n",
    "\n",
    "* Sheets:\n",
    "    * ```https://www.googleapis.com/auth/spreadsheets```\n",
    "\n",
    "* Drive:\n",
    "    * ```https://www.googleapis.com/auth/drive.file```\n"
   ]
  },
  {
   "cell_type": "code",
   "execution_count": 15,
   "metadata": {},
   "outputs": [
    {
     "name": "stdout",
     "output_type": "stream",
     "text": [
      "total 4\n",
      "-rwxrwxrwx 1 tfadmin tfadmin  407 Dec  8 18:13 moneypenny_oauth_id.json\n",
      "-rwxrwxrwx 1 tfadmin tfadmin 2371 Dec  8 15:41 python-resource-mgt-0ac59ab81869.json\n"
     ]
    }
   ],
   "source": [
    "!ls -l /mnt/d/GCP/"
   ]
  },
  {
   "cell_type": "code",
   "execution_count": 18,
   "metadata": {},
   "outputs": [
    {
     "name": "stdout",
     "output_type": "stream",
     "text": [
      "Please go to this URL and authorize the application:\n",
      "https://accounts.google.com/o/oauth2/auth?response_type=code&client_id=336348628770-ql8ed1mok8mq938h00n0sl75pqud9n5j.apps.googleusercontent.com&redirect_uri=http%3A%2F%2Flocalhost%3A8080&scope=https%3A%2F%2Fwww.googleapis.com%2Fauth%2Fgmail.modify+https%3A%2F%2Fwww.googleapis.com%2Fauth%2Fgmail.labels&state=P7IoPDT8PLV1iXfd8OnhAs3THsJmro&access_type=offline&include_granted_scopes=true\n",
      "\n",
      "After authorization, you'll be redirected to localhost.\n",
      "Copy the entire URL from your browser and paste it here: \n"
     ]
    },
    {
     "ename": "ValueError",
     "evalue": "Please supply either code or authorization_response parameters.",
     "output_type": "error",
     "traceback": [
      "\u001b[0;31m---------------------------------------------------------------------------\u001b[0m",
      "\u001b[0;31mValueError\u001b[0m                                Traceback (most recent call last)",
      "Cell \u001b[0;32mIn[18], line 133\u001b[0m\n\u001b[1;32m    130\u001b[0m     test_gmail_functionality(gmail_service)\n\u001b[1;32m    132\u001b[0m \u001b[38;5;28;01mif\u001b[39;00m \u001b[38;5;18m__name__\u001b[39m \u001b[38;5;241m==\u001b[39m \u001b[38;5;124m\"\u001b[39m\u001b[38;5;124m__main__\u001b[39m\u001b[38;5;124m\"\u001b[39m:\n\u001b[0;32m--> 133\u001b[0m     \u001b[43mmain\u001b[49m\u001b[43m(\u001b[49m\u001b[43m)\u001b[49m\n",
      "Cell \u001b[0;32mIn[18], line 127\u001b[0m, in \u001b[0;36mmain\u001b[0;34m()\u001b[0m\n\u001b[1;32m    125\u001b[0m \u001b[38;5;28;01mdef\u001b[39;00m \u001b[38;5;21mmain\u001b[39m():\n\u001b[1;32m    126\u001b[0m     \u001b[38;5;66;03m# Create Gmail service using OAuth\u001b[39;00m\n\u001b[0;32m--> 127\u001b[0m     gmail_service \u001b[38;5;241m=\u001b[39m \u001b[43mcreate_gmail_service\u001b[49m\u001b[43m(\u001b[49m\u001b[43m)\u001b[49m\n\u001b[1;32m    129\u001b[0m     \u001b[38;5;66;03m# Run the tests\u001b[39;00m\n\u001b[1;32m    130\u001b[0m     test_gmail_functionality(gmail_service)\n",
      "Cell \u001b[0;32mIn[18], line 44\u001b[0m, in \u001b[0;36mcreate_gmail_service\u001b[0;34m()\u001b[0m\n\u001b[1;32m     41\u001b[0m     \u001b[38;5;28mprint\u001b[39m(\u001b[38;5;124m'\u001b[39m\u001b[38;5;124mCopy the entire URL from your browser and paste it here: \u001b[39m\u001b[38;5;124m'\u001b[39m)\n\u001b[1;32m     42\u001b[0m     redirect_response \u001b[38;5;241m=\u001b[39m \u001b[38;5;28minput\u001b[39m()\n\u001b[0;32m---> 44\u001b[0m     \u001b[43mflow\u001b[49m\u001b[38;5;241;43m.\u001b[39;49m\u001b[43mfetch_token\u001b[49m\u001b[43m(\u001b[49m\u001b[43mauthorization_response\u001b[49m\u001b[38;5;241;43m=\u001b[39;49m\u001b[43mredirect_response\u001b[49m\u001b[43m)\u001b[49m\n\u001b[1;32m     45\u001b[0m     creds \u001b[38;5;241m=\u001b[39m flow\u001b[38;5;241m.\u001b[39mcredentials\n\u001b[1;32m     47\u001b[0m \u001b[38;5;66;03m# Save the credentials for the next run\u001b[39;00m\n",
      "File \u001b[0;32m~/miniconda3/envs/nassau/lib/python3.10/site-packages/google_auth_oauthlib/flow.py:285\u001b[0m, in \u001b[0;36mFlow.fetch_token\u001b[0;34m(self, **kwargs)\u001b[0m\n\u001b[1;32m    283\u001b[0m kwargs\u001b[38;5;241m.\u001b[39msetdefault(\u001b[38;5;124m\"\u001b[39m\u001b[38;5;124mclient_secret\u001b[39m\u001b[38;5;124m\"\u001b[39m, \u001b[38;5;28mself\u001b[39m\u001b[38;5;241m.\u001b[39mclient_config[\u001b[38;5;124m\"\u001b[39m\u001b[38;5;124mclient_secret\u001b[39m\u001b[38;5;124m\"\u001b[39m])\n\u001b[1;32m    284\u001b[0m kwargs\u001b[38;5;241m.\u001b[39msetdefault(\u001b[38;5;124m\"\u001b[39m\u001b[38;5;124mcode_verifier\u001b[39m\u001b[38;5;124m\"\u001b[39m, \u001b[38;5;28mself\u001b[39m\u001b[38;5;241m.\u001b[39mcode_verifier)\n\u001b[0;32m--> 285\u001b[0m \u001b[38;5;28;01mreturn\u001b[39;00m \u001b[38;5;28;43mself\u001b[39;49m\u001b[38;5;241;43m.\u001b[39;49m\u001b[43moauth2session\u001b[49m\u001b[38;5;241;43m.\u001b[39;49m\u001b[43mfetch_token\u001b[49m\u001b[43m(\u001b[49m\u001b[38;5;28;43mself\u001b[39;49m\u001b[38;5;241;43m.\u001b[39;49m\u001b[43mclient_config\u001b[49m\u001b[43m[\u001b[49m\u001b[38;5;124;43m\"\u001b[39;49m\u001b[38;5;124;43mtoken_uri\u001b[39;49m\u001b[38;5;124;43m\"\u001b[39;49m\u001b[43m]\u001b[49m\u001b[43m,\u001b[49m\u001b[43m \u001b[49m\u001b[38;5;241;43m*\u001b[39;49m\u001b[38;5;241;43m*\u001b[39;49m\u001b[43mkwargs\u001b[49m\u001b[43m)\u001b[49m\n",
      "File \u001b[0;32m~/miniconda3/envs/nassau/lib/python3.10/site-packages/requests_oauthlib/oauth2_session.py:278\u001b[0m, in \u001b[0;36mOAuth2Session.fetch_token\u001b[0;34m(self, token_url, code, authorization_response, body, auth, username, password, method, force_querystring, timeout, headers, verify, proxies, include_client_id, client_secret, cert, **kwargs)\u001b[0m\n\u001b[1;32m    276\u001b[0m     code \u001b[38;5;241m=\u001b[39m \u001b[38;5;28mself\u001b[39m\u001b[38;5;241m.\u001b[39m_client\u001b[38;5;241m.\u001b[39mcode\n\u001b[1;32m    277\u001b[0m     \u001b[38;5;28;01mif\u001b[39;00m \u001b[38;5;129;01mnot\u001b[39;00m code:\n\u001b[0;32m--> 278\u001b[0m         \u001b[38;5;28;01mraise\u001b[39;00m \u001b[38;5;167;01mValueError\u001b[39;00m(\n\u001b[1;32m    279\u001b[0m             \u001b[38;5;124m\"\u001b[39m\u001b[38;5;124mPlease supply either code or \u001b[39m\u001b[38;5;124m\"\u001b[39m \u001b[38;5;124m\"\u001b[39m\u001b[38;5;124mauthorization_response parameters.\u001b[39m\u001b[38;5;124m\"\u001b[39m\n\u001b[1;32m    280\u001b[0m         )\n\u001b[1;32m    282\u001b[0m \u001b[38;5;28;01mif\u001b[39;00m \u001b[38;5;28mself\u001b[39m\u001b[38;5;241m.\u001b[39m_pkce:\n\u001b[1;32m    283\u001b[0m     \u001b[38;5;28;01mif\u001b[39;00m \u001b[38;5;28mself\u001b[39m\u001b[38;5;241m.\u001b[39m_code_verifier \u001b[38;5;129;01mis\u001b[39;00m \u001b[38;5;28;01mNone\u001b[39;00m:\n",
      "\u001b[0;31mValueError\u001b[0m: Please supply either code or authorization_response parameters."
     ]
    }
   ],
   "source": [
    "def create_gmail_service():\n",
    "    \"\"\"\n",
    "    Create a Gmail service using OAuth 2.0 credentials.\n",
    "    Handles token creation and refresh, with manual browser authorization.\n",
    "    \"\"\"\n",
    "    creds = None\n",
    "    # Token file stores the user's access and refresh tokens\n",
    "    TOKEN_FILE = 'token.pickle'\n",
    "    # If you have a credentials.json file from Google Cloud Console\n",
    "    CLIENT_SECRETS_FILE = '/mnt/d/GCP/moneypenny_oauth_id.json'\n",
    "    \n",
    "    # The scope we need for Gmail API\n",
    "    SCOPES = ['https://www.googleapis.com/auth/gmail.modify',\n",
    "              'https://www.googleapis.com/auth/gmail.labels']\n",
    "\n",
    "    # Load existing tokens if they exist\n",
    "    if os.path.exists(TOKEN_FILE):\n",
    "        with open(TOKEN_FILE, 'rb') as token:\n",
    "            creds = pickle.load(token)\n",
    "\n",
    "    # If no valid credentials available, let the user log in\n",
    "    if not creds or not creds.valid:\n",
    "        if creds and creds.expired and creds.refresh_token:\n",
    "            creds.refresh(Request())\n",
    "        else:\n",
    "            flow = InstalledAppFlow.from_client_secrets_file(\n",
    "                CLIENT_SECRETS_FILE, \n",
    "                SCOPES,\n",
    "                redirect_uri='http://localhost:8080'\n",
    "            )\n",
    "            \n",
    "            # Get the authorization URL\n",
    "            auth_url, _ = flow.authorization_url(\n",
    "                access_type='offline',\n",
    "                include_granted_scopes='true'\n",
    "            )\n",
    "            \n",
    "            print('Please go to this URL and authorize the application:')\n",
    "            print(auth_url)\n",
    "            print('\\nAfter authorization, you\\'ll be redirected to localhost.')\n",
    "            print('Copy the entire URL from your browser and paste it here: ')\n",
    "            redirect_response = input()\n",
    "            \n",
    "            flow.fetch_token(authorization_response=redirect_response)\n",
    "            creds = flow.credentials\n",
    "            \n",
    "        # Save the credentials for the next run\n",
    "        with open(TOKEN_FILE, 'wb') as token:\n",
    "            pickle.dump(creds, token)\n",
    "\n",
    "    return build('gmail', 'v1', credentials=creds)\n",
    "\n",
    "def test_gmail_functionality(gmail_service, user_id='me'):\n",
    "    \"\"\"\n",
    "    Test various Gmail API functionalities\n",
    "    \n",
    "    Args:\n",
    "        gmail_service: Authenticated Gmail service object\n",
    "        user_id: User's email address. Special value 'me' for authenticated user.\n",
    "    \"\"\"\n",
    "    # Test 1: List labels\n",
    "    def list_labels():\n",
    "        results = gmail_service.users().labels().list(userId=user_id).execute()\n",
    "        labels = results.get('labels', [])\n",
    "        print(\"Labels:\")\n",
    "        for label in labels:\n",
    "            print(f\"- {label['name']} ({label['id']})\")\n",
    "\n",
    "    # Test 2: Create a new label\n",
    "    def create_label(label_name=\"Test_Label\"):\n",
    "        label_object = {\n",
    "            'name': label_name,\n",
    "            'labelListVisibility': 'labelShow',\n",
    "            'messageListVisibility': 'show'\n",
    "        }\n",
    "        try:\n",
    "            created_label = gmail_service.users().labels().create(\n",
    "                userId=user_id,\n",
    "                body=label_object\n",
    "            ).execute()\n",
    "            print(f\"Created label: {created_label['name']}\")\n",
    "            return created_label\n",
    "        except Exception as e:\n",
    "            print(f\"Error creating label: {e}\")\n",
    "\n",
    "    # Test 3: Send an email\n",
    "    def send_email(to, subject, message_text):\n",
    "        message = MIMEText(message_text)\n",
    "        message['to'] = to\n",
    "        message['subject'] = subject\n",
    "        \n",
    "        raw_message = base64.urlsafe_b64encode(message.as_bytes()).decode('utf-8')\n",
    "        try:\n",
    "            sent_message = gmail_service.users().messages().send(\n",
    "                userId=user_id,\n",
    "                body={'raw': raw_message}\n",
    "            ).execute()\n",
    "            print(f\"Message sent. Message ID: {sent_message['id']}\")\n",
    "            return sent_message\n",
    "        except Exception as e:\n",
    "            print(f\"Error sending message: {e}\")\n",
    "\n",
    "    # Test 4: List recent messages\n",
    "    def list_recent_messages(max_results=5):\n",
    "        results = gmail_service.users().messages().list(\n",
    "            userId=user_id,\n",
    "            maxResults=max_results\n",
    "        ).execute()\n",
    "        messages = results.get('messages', [])\n",
    "        print(f\"\\nRecent {max_results} messages:\")\n",
    "        for message in messages:\n",
    "            msg = gmail_service.users().messages().get(\n",
    "                userId=user_id,\n",
    "                id=message['id']\n",
    "            ).execute()\n",
    "            print(f\"- Subject: {next((header['value'] for header in msg['payload']['headers'] if header['name'] == 'Subject'), 'No Subject')}\")\n",
    "\n",
    "    # Run tests\n",
    "    print(\"Starting Gmail API tests...\")\n",
    "    list_labels()\n",
    "    created_label = create_label(\"Test_Label_\" + datetime.now().strftime(\"%Y%m%d_%H%M%S\"))\n",
    "    send_email(\"your-email@example.com\", \"Test Email\", \"This is a test email sent via Gmail API\")\n",
    "    list_recent_messages()\n",
    "\n",
    "def main():\n",
    "    # Create Gmail service using OAuth\n",
    "    gmail_service = create_gmail_service()\n",
    "    \n",
    "    # Run the tests\n",
    "    test_gmail_functionality(gmail_service)\n",
    "\n",
    "if __name__ == \"__main__\":\n",
    "    main()"
   ]
  },
  {
   "cell_type": "code",
   "execution_count": null,
   "metadata": {},
   "outputs": [],
   "source": []
  },
  {
   "cell_type": "code",
   "execution_count": null,
   "metadata": {},
   "outputs": [],
   "source": []
  },
  {
   "cell_type": "code",
   "execution_count": null,
   "metadata": {},
   "outputs": [],
   "source": []
  }
 ],
 "metadata": {
  "kernelspec": {
   "display_name": "nassau",
   "language": "python",
   "name": "python3"
  },
  "language_info": {
   "codemirror_mode": {
    "name": "ipython",
    "version": 3
   },
   "file_extension": ".py",
   "mimetype": "text/x-python",
   "name": "python",
   "nbconvert_exporter": "python",
   "pygments_lexer": "ipython3",
   "version": "3.10.15"
  }
 },
 "nbformat": 4,
 "nbformat_minor": 2
}
