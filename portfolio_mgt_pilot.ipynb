{
 "cells": [
  {
   "cell_type": "markdown",
   "metadata": {},
   "source": [
    "# Python Resource Management Project:\n",
    "\n",
    "[Overview link](https://console.cloud.google.com/auth/overview?project=python-resource-mgt)\n",
    "\n",
    "<br>\n",
    "\n",
    "GCP Service account:  ```moneypenny@python-resource-mgt.iam.gserviceaccount.com```\n",
    "\n",
    "\n",
    "### OAuth Scopes:\n",
    "\n",
    "* Gmail:\n",
    "    * ```https://www.googleapis.com/auth/gmail.modify```\n",
    "    * ```https://www.googleapis.com/auth/gmail.labels```\n",
    "\n",
    "* Sheets:\n",
    "    * ```https://www.googleapis.com/auth/spreadsheets```\n",
    "\n",
    "* Drive:\n",
    "    * ```https://www.googleapis.com/auth/drive.file```"
   ]
  },
  {
   "cell_type": "code",
   "execution_count": null,
   "metadata": {},
   "outputs": [],
   "source": [
    "import pandas as pd\n",
    "import numpy as np\n",
    "import matplotlib.pyplot as plt\n",
    "import seaborn as sns\n",
    "from google.oauth2 import service_account\n",
    "from googleapiclient.discovery import build\n",
    "from datetime import datetime, timedelta\n",
    "import base64\n",
    "import email\n",
    "import pytz\n",
    "import schedule\n",
    "import time\n",
    "from email.mime.text import MIMEText\n",
    "from email.mime.multipart import MIMEMultipart\n",
    "from email.mime.image import MIMEImage"
   ]
  },
  {
   "cell_type": "code",
   "execution_count": null,
   "metadata": {},
   "outputs": [],
   "source": [
    "def create_service(service_account_file, scopes, api_name, api_version):\n",
    "    \"\"\"\n",
    "    Create a Google service object with the specified credentials and scopes.\n",
    "    \n",
    "    Args:\n",
    "        service_account_file (str): Path to service account JSON key file\n",
    "        scopes (list): List of OAuth scopes needed\n",
    "        api_name (str): Name of the Google API (e.g., 'gmail', 'sheets', 'drive')\n",
    "        api_version (str): Version of the API to use\n",
    "    \n",
    "    Returns:\n",
    "        service: Authenticated Google service object\n",
    "    \"\"\"\n",
    "    credentials = service_account.Credentials.from_service_account_file(\n",
    "        service_account_file,\n",
    "        scopes=scopes\n",
    "    )\n",
    "    \n",
    "    service = build(api_name, api_version, credentials=credentials)\n",
    "    return service\n",
    "\n",
    "# Example usage\n",
    "def main():\n",
    "    # Path to your service account JSON key file\n",
    "    SERVICE_ACCOUNT_FILE = '/mnt/d/GCP/python-resource-mgt-0ac59ab81869.json'\n",
    "    \n",
    "    # Define the scopes you need\n",
    "    SCOPES = [\n",
    "        'https://www.googleapis.com/auth/gmail.modify',\n",
    "        'https://www.googleapis.com/auth/gmail.labels',\n",
    "        'https://www.googleapis.com/auth/spreadsheets',\n",
    "        'https://www.googleapis.com/auth/drive.file'\n",
    "    ]\n",
    "    \n",
    "    # Create services for each API\n",
    "    gmail_service = create_service(SERVICE_ACCOUNT_FILE, SCOPES, 'gmail', 'v1')\n",
    "    sheets_service = create_service(SERVICE_ACCOUNT_FILE, SCOPES, 'sheets', 'v4')\n",
    "    drive_service = create_service(SERVICE_ACCOUNT_FILE, SCOPES, 'drive', 'v3')\n",
    "    \n",
    "    # Now you can use these service objects to make API calls\n",
    "    # Example: List files in Drive\n",
    "    results = drive_service.files().list(pageSize=10).execute()\n",
    "    files = results.get('files', [])\n",
    "    \n",
    "    for file in files:\n",
    "        print(f\"Found file: {file['name']} ({file['id']})\")\n",
    "\n",
    "if __name__ == '__main__':\n",
    "    main()"
   ]
  },
  {
   "cell_type": "code",
   "execution_count": null,
   "metadata": {},
   "outputs": [],
   "source": []
  },
  {
   "cell_type": "code",
   "execution_count": null,
   "metadata": {},
   "outputs": [],
   "source": []
  },
  {
   "cell_type": "code",
   "execution_count": null,
   "metadata": {},
   "outputs": [],
   "source": []
  }
 ],
 "metadata": {
  "language_info": {
   "name": "python"
  }
 },
 "nbformat": 4,
 "nbformat_minor": 2
}
