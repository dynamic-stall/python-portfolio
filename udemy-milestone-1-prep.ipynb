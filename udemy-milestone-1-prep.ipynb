{
 "cells": [
  {
   "cell_type": "markdown",
   "metadata": {},
   "source": [
    "### Tic Tac Toe:"
   ]
  },
  {
   "cell_type": "code",
   "execution_count": 1,
   "metadata": {},
   "outputs": [],
   "source": [
    "import time\n",
    "import os\n",
    "import sys\n",
    "from IPython.display import clear_output"
   ]
  },
  {
   "cell_type": "code",
   "execution_count": 82,
   "metadata": {},
   "outputs": [],
   "source": [
    "tictac = {\n",
    "    't1':' ','t2':' ','t3':' ',\n",
    "    'm1':' ','m2':' ','m3':' ',\n",
    "    'b1':' ','b2':' ','b3':' '\n",
    "    }\n",
    "\n",
    "num_pad = {\n",
    "    't1':'7','t2':'8','t3':'9',\n",
    "    'm1':'4','m2':'5','m3':'6',\n",
    "    'b1':'1','b2':'2','b3':'3'\n",
    "    }\n",
    "\n",
    "translator = {\n",
    "    '7':'t1','8':'t2','9':'t3',\n",
    "    '4':'m1','5':'m2','6':'m3',\n",
    "    '1':'b1','2':'b2','3':'b3'\n",
    "    }\n",
    "\n",
    "players = {\n",
    "    'player':['PLAYER_1','PLAYER_2'],\n",
    "    'symbol':['','']\n",
    "    }\n",
    "\n",
    "player_idx = 0\n",
    "move_ct = 0"
   ]
  },
  {
   "cell_type": "code",
   "execution_count": 3,
   "metadata": {},
   "outputs": [
    {
     "name": "stdout",
     "output_type": "stream",
     "text": [
      "Shall we play a game...?\n",
      ".\n"
     ]
    },
    {
     "ename": "KeyboardInterrupt",
     "evalue": "",
     "output_type": "error",
     "traceback": [
      "\u001b[0;31m---------------------------------------------------------------------------\u001b[0m",
      "\u001b[0;31mKeyboardInterrupt\u001b[0m                         Traceback (most recent call last)",
      "Cell \u001b[0;32mIn[3], line 12\u001b[0m\n\u001b[1;32m      9\u001b[0m     \u001b[38;5;28mprint\u001b[39m()\n\u001b[1;32m     11\u001b[0m dramatic_intro(intro1,delay\u001b[38;5;241m=\u001b[39m\u001b[38;5;241m0.1\u001b[39m)\n\u001b[0;32m---> 12\u001b[0m \u001b[38;5;28mprint\u001b[39m(\u001b[38;5;124m'\u001b[39m\u001b[38;5;124m.\u001b[39m\u001b[38;5;124m'\u001b[39m); time\u001b[38;5;241m.\u001b[39msleep(\u001b[38;5;241m1\u001b[39m); \u001b[38;5;28mprint\u001b[39m(\u001b[38;5;124m'\u001b[39m\u001b[38;5;124m.\u001b[39m\u001b[38;5;124m'\u001b[39m); time\u001b[38;5;241m.\u001b[39msleep(\u001b[38;5;241m1\u001b[39m); \u001b[38;5;28mprint\u001b[39m(\u001b[38;5;124m'\u001b[39m\u001b[38;5;124m.\u001b[39m\u001b[38;5;124m'\u001b[39m); time\u001b[38;5;241m.\u001b[39msleep(\u001b[38;5;241m1\u001b[39m)\n\u001b[1;32m     13\u001b[0m dramatic_intro(intro2,delay\u001b[38;5;241m=\u001b[39m\u001b[38;5;241m0.05\u001b[39m)\n\u001b[1;32m     14\u001b[0m \u001b[38;5;28mprint\u001b[39m(\u001b[38;5;124m'\u001b[39m\u001b[38;5;130;01m\\n\u001b[39;00m\u001b[38;5;124m'\u001b[39m)\n",
      "\u001b[0;31mKeyboardInterrupt\u001b[0m: "
     ]
    }
   ],
   "source": [
    "## for fun, LOL...\n",
    "intro1 = 'Shall we play a game...?'\n",
    "intro2 = 'Welcome to Tic Tac Toe!'\n",
    "\n",
    "def dramatic_intro(intro,delay):\n",
    "    for i in intro:\n",
    "        print(i, end=\"\", flush=True)\n",
    "        time.sleep(delay)\n",
    "    print()\n",
    "\n",
    "dramatic_intro(intro1,delay=0.1)\n",
    "print('.'); time.sleep(1); print('.'); time.sleep(1); print('.'); time.sleep(1)\n",
    "dramatic_intro(intro2,delay=0.05)\n",
    "print('\\n')\n",
    "game_board(tictac)\n",
    "print('\\n')"
   ]
  },
  {
   "cell_type": "code",
   "execution_count": 4,
   "metadata": {},
   "outputs": [],
   "source": [
    "def clear_screen():\n",
    "    if \"ipykernel\" in sys.modules:\n",
    "        # for Jupyter Notebook...\n",
    "        clear_output()\n",
    "    else:\n",
    "        os.system('clear')"
   ]
  },
  {
   "cell_type": "code",
   "execution_count": null,
   "metadata": {},
   "outputs": [
    {
     "name": "stdout",
     "output_type": "stream",
     "text": [
      " 7 | 8 | 9 \n",
      "-----------\n",
      " 4 | 5 | 6 \n",
      "-----------\n",
      " 1 | 2 | 3 \n",
      "\n",
      "(numbers above correspond to\n",
      "X/O marks on the board below)\n",
      "\n",
      "     |\n",
      "     |\n",
      "    \\|/\n",
      "\n",
      "   |   |   \n",
      "-----------\n",
      "   |   |   \n",
      "-----------\n",
      "   |   |   \n"
     ]
    }
   ],
   "source": [
    "def game_board(tictac):\n",
    "    print(\n",
    "    f\" {tictac['t1']} | {tictac['t2']} | {tictac['t3']} \\n\"\n",
    "    \"-----------\\n\"\n",
    "    f\" {tictac['m1']} | {tictac['m2']} | {tictac['m3']} \\n\"\n",
    "    \"-----------\\n\"\n",
    "    f\" {tictac['b1']} | {tictac['b2']} | {tictac['b3']} \"\n",
    "    )\n",
    "\n",
    "game_board(num_pad)\n",
    "print('\\n(numbers above correspond to\\nX/O marks on the board below)')\n",
    "print('\\n     |')\n",
    "print('     |')\n",
    "print(r'    \\|/''\\n')\n",
    "#print('\\n############\\n')\n",
    "game_board(tictac)\n"
   ]
  },
  {
   "cell_type": "code",
   "execution_count": 6,
   "metadata": {},
   "outputs": [],
   "source": [
    "def player_symbol(player_idx):\n",
    "    acceptable_choice = ['X','x','O','o']\n",
    "    proper_range = False\n",
    "\n",
    "    while proper_range == False:\n",
    "        players['symbol'][player_idx] = input(f\"{players['player'][player_idx]}, which symbol would you like to use (enter X/x or O/o)? \")\n",
    "        if players['symbol'][player_idx].isascii():\n",
    "            if players['symbol'][player_idx] in acceptable_choice:\n",
    "                proper_range = True\n",
    "            else:\n",
    "                print('Please enter either X/x or O/o...')\n",
    "                proper_range = False\n",
    "    players['symbol'][player_idx] = players['symbol'][player_idx].upper()\n",
    "\n",
    "    if players['symbol'][player_idx] == 'X':\n",
    "        players['symbol'][player_idx + 1%2] = 'O'\n",
    "    else:\n",
    "        players['symbol'][player_idx + 1%2] = 'X'\n",
    "    \n",
    "    print('Symbols have been chosen!')\n",
    "    print(f\"{players['player'][0]}: {players['symbol'][0]}\")\n",
    "    print(f\"{players['player'][1]}: {players['symbol'][1]}\")"
   ]
  },
  {
   "cell_type": "code",
   "execution_count": 21,
   "metadata": {},
   "outputs": [
    {
     "data": {
      "text/plain": [
       "'5'"
      ]
     },
     "execution_count": 21,
     "metadata": {},
     "output_type": "execute_result"
    }
   ],
   "source": [
    "str(move)"
   ]
  },
  {
   "cell_type": "code",
   "execution_count": 8,
   "metadata": {},
   "outputs": [],
   "source": [
    "def player_move(player_idx):\n",
    "    move = ' '\n",
    "    clear_screen()\n",
    "    game_board(num_pad)\n",
    "    print('\\n     |')\n",
    "    print('     |')\n",
    "    print('    \\|/\\n')\n",
    "    game_board(tictac)\n",
    "    \n",
    "    while True:\n",
    "        move = input(f\"{players['player'][player_idx]}! Pick an available spot on the board using the corresponding numbers (1-9): \")\n",
    "        if not move.isdigit():\n",
    "            print('Sorry, that\\'s not a number...')\n",
    "        elif move not in num_pad.values():\n",
    "            print('You must pick a number between 1 and 9...')\n",
    "        else:\n",
    "            return move"
   ]
  },
  {
   "cell_type": "code",
   "execution_count": 12,
   "metadata": {},
   "outputs": [
    {
     "name": "stdout",
     "output_type": "stream",
     "text": [
      " 7 | 8 | 9 \n",
      "-----------\n",
      " 4 | 5 | 6 \n",
      "-----------\n",
      " 1 | 2 | 3 \n",
      "\n",
      "     |\n",
      "     |\n",
      "    \\|/\n",
      "\n",
      "   |   |   \n",
      "-----------\n",
      "   |   |   \n",
      "-----------\n",
      "   |   |   \n"
     ]
    }
   ],
   "source": [
    "move = str(player_move(player_idx))"
   ]
  },
  {
   "cell_type": "code",
   "execution_count": null,
   "metadata": {},
   "outputs": [
    {
     "data": {
      "text/plain": [
       "'5'"
      ]
     },
     "execution_count": 10,
     "metadata": {},
     "output_type": "execute_result"
    }
   ],
   "source": []
  },
  {
   "cell_type": "markdown",
   "metadata": {},
   "source": [
    "def board_position(move,player_idx):\n",
    "    pos = translator[move]\n",
    "    if tictac[pos] == ' ':\n",
    "        tictac[pos] = players['symbol'][player_idx]\n",
    "        game_board(tictac)\n",
    "        return True\n",
    "    else:\n",
    "        print(\"That spot is already taken; try again!\")\n",
    "        #move = ' '\n",
    "        time.sleep(2)\n",
    "        return False"
   ]
  },
  {
   "cell_type": "code",
   "execution_count": null,
   "metadata": {},
   "outputs": [],
   "source": []
  },
  {
   "cell_type": "code",
   "execution_count": 11,
   "metadata": {},
   "outputs": [
    {
     "data": {
      "text/plain": [
       "' '"
      ]
     },
     "execution_count": 11,
     "metadata": {},
     "output_type": "execute_result"
    }
   ],
   "source": [
    "tictac[translator[str(move)]]# = players['symbol'][player_idx]"
   ]
  },
  {
   "cell_type": "code",
   "execution_count": 15,
   "metadata": {},
   "outputs": [],
   "source": [
    "def transpose(player_idx):\n",
    "    pos = translator[move]\n",
    "\n",
    "    try:\n",
    "        if tictac[pos] == ' ':\n",
    "            tictac[pos] = players['symbol'][player_idx]\n",
    "            game_board(tictac)\n",
    "            return True\n",
    "        else:\n",
    "            print(\"Invalid move; try again!\")\n",
    "            time.sleep(2)\n",
    "    except:\n",
    "            return False"
   ]
  },
  {
   "cell_type": "code",
   "execution_count": 19,
   "metadata": {},
   "outputs": [
    {
     "name": "stdout",
     "output_type": "stream",
     "text": [
      "   |   |   \n",
      "-----------\n",
      "   | X |   \n",
      "-----------\n",
      "   |   |   \n"
     ]
    },
    {
     "data": {
      "text/plain": [
       "True"
      ]
     },
     "execution_count": 19,
     "metadata": {},
     "output_type": "execute_result"
    }
   ],
   "source": [
    "#board_position(player_idx)\n",
    "transpose(player_idx)"
   ]
  },
  {
   "cell_type": "code",
   "execution_count": 14,
   "metadata": {},
   "outputs": [],
   "source": [
    "def legal_move():\n",
    "    move = str(player_move(player_idx))\n",
    "\n",
    "    while True:\n",
    "        if transpose(player_idx):\n",
    "            break\n",
    "        else:\n",
    "            move = str(player_move(player_idx))"
   ]
  },
  {
   "cell_type": "code",
   "execution_count": 19,
   "metadata": {},
   "outputs": [
    {
     "name": "stdout",
     "output_type": "stream",
     "text": [
      "\n",
      "     |\n",
      "     |\n",
      "    \\|/\n",
      "\n"
     ]
    }
   ],
   "source": [
    "    print('\\n     |')\n",
    "    print('     |')\n",
    "    print(r'    \\|/''\\n')"
   ]
  },
  {
   "cell_type": "code",
   "execution_count": 70,
   "metadata": {},
   "outputs": [],
   "source": [
    "def win_condition(tictac,players,player_idx):\n",
    "    \n",
    "    px_name = players['player'][player_idx]\n",
    "    px_sym = players['symbol'][player_idx]\n",
    "\n",
    "    win_pos = (\n",
    "        ['t1', 't2', 't3'],\n",
    "        ['m1', 'm2', 'm3'],\n",
    "        ['b1', 'b2', 'b3'],\n",
    "        ['t1', 'm1', 'b1'],\n",
    "        ['t2', 'm2', 'b2'],\n",
    "        ['t3', 'm3', 'b3'],\n",
    "        ['t1', 'm2', 'b3'],\n",
    "        ['t3', 'm2', 'b1']\n",
    "    )\n",
    "\n",
    "    for con in win_pos:\n",
    "        if all(tictac[pos] == px_sym for pos in con):\n",
    "            game_board(tictac)\n",
    "            print(f\"{px_name} wins!\")\n",
    "            time.sleep(2)\n",
    "            break\n",
    "        else:\n",
    "            print(tictac[con])\n",
    "            continue"
   ]
  },
  {
   "cell_type": "code",
   "execution_count": 71,
   "metadata": {},
   "outputs": [
    {
     "ename": "TypeError",
     "evalue": "unhashable type: 'list'",
     "output_type": "error",
     "traceback": [
      "\u001b[0;31m---------------------------------------------------------------------------\u001b[0m",
      "\u001b[0;31mTypeError\u001b[0m                                 Traceback (most recent call last)",
      "Cell \u001b[0;32mIn[71], line 1\u001b[0m\n\u001b[0;32m----> 1\u001b[0m \u001b[43mwin_condition\u001b[49m\u001b[43m(\u001b[49m\u001b[43mtictac\u001b[49m\u001b[43m,\u001b[49m\u001b[43mplayers\u001b[49m\u001b[43m,\u001b[49m\u001b[43mplayer_idx\u001b[49m\u001b[43m)\u001b[49m\n",
      "Cell \u001b[0;32mIn[70], line 24\u001b[0m, in \u001b[0;36mwin_condition\u001b[0;34m(tictac, players, player_idx)\u001b[0m\n\u001b[1;32m     22\u001b[0m     \u001b[38;5;28;01mbreak\u001b[39;00m\n\u001b[1;32m     23\u001b[0m \u001b[38;5;28;01melse\u001b[39;00m:\n\u001b[0;32m---> 24\u001b[0m     \u001b[38;5;28mprint\u001b[39m(\u001b[43mtictac\u001b[49m\u001b[43m[\u001b[49m\u001b[43mcon\u001b[49m\u001b[43m]\u001b[49m)\n\u001b[1;32m     25\u001b[0m     \u001b[38;5;28;01mcontinue\u001b[39;00m\n",
      "\u001b[0;31mTypeError\u001b[0m: unhashable type: 'list'"
     ]
    }
   ],
   "source": [
    "win_condition(tictac,players,player_idx)"
   ]
  },
  {
   "cell_type": "code",
   "execution_count": null,
   "metadata": {},
   "outputs": [],
   "source": [
    "    win_pos = [\n",
    "        ['t1', 't2', 't3'],\n",
    "        ['m1', 'm2', 'm3'],\n",
    "        ['b1', 'b2', 'b3'],\n",
    "        ['t1', 'm1', 'b1'],\n",
    "        ['t2', 'm2', 'b2'],\n",
    "        ['t3', 'm3', 'b3'],\n",
    "        ['t1', 'm2', 'b3'],\n",
    "        ['t3', 'm2', 'b1']\n",
    "    ]"
   ]
  },
  {
   "cell_type": "code",
   "execution_count": null,
   "metadata": {},
   "outputs": [],
   "source": [
    "for con in win_pos:\n",
    "    if all(tictac[pos] == p1_sym for pos in con):\n",
    "        game_board(tictac)\n",
    "        print(f\"{p1} wins!\")\n",
    "    else:\n",
    "        pass"
   ]
  },
  {
   "cell_type": "code",
   "execution_count": null,
   "metadata": {},
   "outputs": [],
   "source": [
    "def game_on():\n",
    "    while True:\n",
    "        "
   ]
  },
  {
   "cell_type": "code",
   "execution_count": null,
   "metadata": {},
   "outputs": [],
   "source": [
    "#Main game logic:\n",
    "while move_ct < 9:\n",
    "\n",
    "    move = player_move(player_idx)\n",
    "\n",
    "    while True:\n",
    "        if board_position(player_idx):\n",
    "            break\n",
    "        else:\n",
    "            move = player_move(player_idx)\n",
    "\n",
    "    win_condition(tictac,players,player_idx)\n",
    "    move_ct += 1\n",
    "    player_idx = (player_idx + 1) %2\n",
    "\n",
    "if move_ct == 9:\n",
    "    print('BUST! It\\'s a draw!')\n",
    "    play_again()"
   ]
  },
  {
   "cell_type": "code",
   "execution_count": null,
   "metadata": {},
   "outputs": [],
   "source": [
    "#Main game logic:\n",
    "\n",
    "while True:\n",
    "    clear_screen()\n",
    "    player_symbol(player_idx)\n",
    "\n",
    "    while move_ct < 9:\n",
    "        move = player_move(player_idx)\n",
    "\n",
    "        while True:\n",
    "            if board_position(player_idx):\n",
    "                break\n",
    "            else:\n",
    "                move = player_move(player_idx)\n",
    "\n",
    "        win_condition(tictac,players,player_idx)\n",
    "        move_ct += 1\n",
    "        player_idx = (player_idx + 1) %2\n",
    "\n",
    "    if move_ct == 9:\n",
    "        print('BUST! It\\'s a draw!')\n",
    "        time.sleep(2)\n",
    "        play_again()"
   ]
  },
  {
   "cell_type": "code",
   "execution_count": null,
   "metadata": {},
   "outputs": [],
   "source": [
    "def play_again():\n",
    "    yes = ['Yes','yes','Y','y']\n",
    "    no = ['No','no','N','n']\n",
    "    replay = ''\n",
    "    correct_response = False\n",
    "\n",
    "    while replay.isascii() == False or correct_response == False:\n",
    "        replay = input('Would you like to play again ([y]es, [n]o)? ')\n",
    "        if replay.isascii() == False:\n",
    "            print('Sorry, that\\'s not a word/letter...')\n",
    "        if replay.isascii():\n",
    "            if replay in yes or no:\n",
    "                correct_response = True\n",
    "            else:\n",
    "                print('You must answer, \"[y]es, [n]o.\"')\n",
    "                within_range = False\n",
    "    \n",
    "    if replay in yes:\n",
    "        game_on == True\n",
    "    elif replay in no:\n",
    "        game_on == False"
   ]
  },
  {
   "cell_type": "code",
   "execution_count": 36,
   "metadata": {},
   "outputs": [
    {
     "name": "stdout",
     "output_type": "stream",
     "text": [
      "1\n"
     ]
    },
    {
     "data": {
      "text/plain": [
       "0"
      ]
     },
     "execution_count": 36,
     "metadata": {},
     "output_type": "execute_result"
    }
   ],
   "source": [
    "print(player_idx)\n",
    "player_idx = (player_idx + 1) %2\n",
    "player_idx\n"
   ]
  },
  {
   "cell_type": "code",
   "execution_count": 96,
   "metadata": {},
   "outputs": [
    {
     "name": "stdout",
     "output_type": "stream",
     "text": [
      "   |   |   \n",
      "-----------\n",
      "   |   |   \n",
      "-----------\n",
      "   |   |   \n"
     ]
    }
   ],
   "source": [
    "tictac = {key: ' ' for key in tictac}\n",
    "\n",
    "game_board(tictac)\n"
   ]
  },
  {
   "cell_type": "code",
   "execution_count": null,
   "metadata": {},
   "outputs": [],
   "source": [
    "## Main game loop:\n",
    "while game_on:\n",
    "    clear_screen()\n",
    "    player_symbol(player_idx)\n",
    "\n",
    "    while move_ct < 9:\n",
    "        move = player_move(player_idx)\n",
    "\n",
    "        while True:\n",
    "            if board_position(player_idx):\n",
    "                break\n",
    "            else:\n",
    "                move = player_move(player_idx)\n",
    "\n",
    "        if win_condition(tictac, players, player_idx):\n",
    "            game_on = play_again()\n",
    "            if not game_on:\n",
    "                break\n",
    "            else:\n",
    "                reset()\n",
    "                #continue\n",
    "\n",
    "        else:\n",
    "            move_ct += 1\n",
    "            player_idx = (player_idx + 1) % 2\n",
    "\n",
    "    if move_ct == 9:\n",
    "        print('BUST! It\\'s a draw!')\n",
    "        time.sleep(2)\n",
    "        game_on = play_again()\n",
    "        if not game_on:\n",
    "            break\n",
    "        else:\n",
    "            reset()\n",
    "            #continue"
   ]
  },
  {
   "cell_type": "code",
   "execution_count": null,
   "metadata": {},
   "outputs": [],
   "source": [
    "## updated game loop function:\n",
    "def tic_tac_toe():\n",
    "    global game_on, move_ct, player_idx, move\n",
    "\n",
    "    while game_on:\n",
    "        clear_screen()\n",
    "        player_symbol(player_idx)\n",
    "\n",
    "        while move_ct < 9:\n",
    "            move = player_move(player_idx)\n",
    "\n",
    "            while True:\n",
    "                if board_position(player_idx):\n",
    "                    break\n",
    "                else:\n",
    "                    move = player_move(player_idx)\n",
    "\n",
    "            if win_condition(tictac, players, player_idx):\n",
    "                game_on = play_again()\n",
    "                if not game_on:\n",
    "                    break\n",
    "                else:\n",
    "                    reset()\n",
    "                    break\n",
    "\n",
    "            else:\n",
    "                move_ct += 1\n",
    "                player_idx = (player_idx + 1) % 2\n",
    "\n",
    "        if move_ct == 9:\n",
    "            print('BUST! It\\'s a draw!')\n",
    "            time.sleep(2)\n",
    "            game_on = play_again()\n",
    "            if not game_on:\n",
    "                break\n",
    "            else:\n",
    "                reset()\n",
    "                break\n",
    "\n"
   ]
  },
  {
   "cell_type": "code",
   "execution_count": null,
   "metadata": {},
   "outputs": [],
   "source": [
    "## backup:\n",
    "game_on = True\n",
    "\n",
    "while game_on:\n",
    "    clear_screen()\n",
    "    player_symbol(player_idx)\n",
    "\n",
    "    while move_ct < 9:\n",
    "        move = player_move(player_idx)\n",
    "\n",
    "        while True:\n",
    "            if board_position(player_idx):\n",
    "                break\n",
    "            else:\n",
    "                move = player_move(player_idx)\n",
    "\n",
    "        if win_condition(tictac,players,player_idx):\n",
    "            game_on = False\n",
    "            play_again()\n",
    "            break\n",
    "        else:\n",
    "            move_ct += 1\n",
    "            player_idx = (player_idx + 1) %2\n",
    "\n",
    "    if move_ct == 9:\n",
    "        print('BUST! It\\'s a draw!')\n",
    "        time.sleep(2)\n",
    "        game_on = False\n",
    "        play_again()"
   ]
  },
  {
   "cell_type": "code",
   "execution_count": null,
   "metadata": {},
   "outputs": [],
   "source": []
  },
  {
   "cell_type": "code",
   "execution_count": null,
   "metadata": {},
   "outputs": [],
   "source": []
  },
  {
   "cell_type": "code",
   "execution_count": null,
   "metadata": {},
   "outputs": [],
   "source": []
  }
 ],
 "metadata": {
  "kernelspec": {
   "display_name": "nassau",
   "language": "python",
   "name": "python3"
  },
  "language_info": {
   "codemirror_mode": {
    "name": "ipython",
    "version": 3
   },
   "file_extension": ".py",
   "mimetype": "text/x-python",
   "name": "python",
   "nbconvert_exporter": "python",
   "pygments_lexer": "ipython3",
   "version": "3.10.15"
  }
 },
 "nbformat": 4,
 "nbformat_minor": 2
}
