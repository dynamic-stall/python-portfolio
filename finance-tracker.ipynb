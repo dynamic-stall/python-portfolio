{
 "cells": [
  {
   "cell_type": "markdown",
   "metadata": {},
   "source": [
    "## Simple Finance Tracker\n",
    "#### 'Python Made Easy' w/ Benjamin Bennet Alexander\n",
    "\n",
    "https://www.linkedin.com/pulse/building-finance-tracker-python-pandas-tutorial-bennett-alexander-jgpwe/"
   ]
  },
  {
   "cell_type": "code",
   "execution_count": null,
   "metadata": {},
   "outputs": [],
   "source": [
    "import pandas as pd"
   ]
  },
  {
   "cell_type": "code",
   "execution_count": 60,
   "metadata": {},
   "outputs": [],
   "source": [
    "class FinanceTracker:\n",
    "    def __init__(self, budget):\n",
    "        self.budget = budget\n",
    "        # empty dataframe to add onto:\n",
    "        self.transactions = pd.DataFrame(columns = ['date', 'category', 'description', 'amount'])\n",
    "\n",
    "    # function to add new transactions:\n",
    "    def add_transactions(self, date, category, description, amount):\n",
    "\n",
    "        # control if statement:\n",
    "        if isinstance(amount, (int, float)):\n",
    "\n",
    "            # dictionary to be concatenated to the empty dataframe above:\n",
    "            self.new_transactions = pd.DataFrame({'date': date,\n",
    "                                                'category': category,\n",
    "                                                'description': description,\n",
    "                                                'amount': amount}, index = [0])    # (<-- 'ValueError: If using all scalar values, you must pass an index')\n",
    "            self.transactions = pd.concat([self.transactions, self.new_transactions], ignore_index = True)\n",
    "        else:\n",
    "            print('Transactions must be of type, int or float; transaction entry failed.')\n",
    "\n",
    "    # function to view transactions (mod: by category, if chosen):\n",
    "    def get_transactions(self, category = None):\n",
    "        if category:\n",
    "            return self.transactions[self.transactions['category'] == category]\n",
    "        return self.transactions\n",
    "    \n",
    "    # function to view total spending by category (if chosen):\n",
    "    def get_total_spending(self, category = None):\n",
    "        if category:\n",
    "            return self.transactions[self.transactions['category'] == category]['amount'].sum()\n",
    "        return self.transactions['amount'].sum()\n",
    "    \n",
    "    def get_budget_balance(self):\n",
    "        balance = self.budget - self.transactions['amount'].sum()\n",
    "        if balance < 0:\n",
    "            print(f'Balance has exceeded; you\\'re in the red!!! Balance: {balance}')\n",
    "        elif balance <= (self.budget / 100 * 15):\n",
    "            print(f'Balance is at or below 15% of budget. Balance: {balance}')\n",
    "        else:\n",
    "            print(f'Balance is comfortably within budget. Balance: {balance}')\n"
   ]
  },
  {
   "cell_type": "code",
   "execution_count": 66,
   "metadata": {},
   "outputs": [],
   "source": [
    "# Enter budget amount here:\n",
    "bud_amt = 750"
   ]
  },
  {
   "cell_type": "code",
   "execution_count": 65,
   "metadata": {},
   "outputs": [
    {
     "data": {
      "text/html": [
       "<div>\n",
       "<style scoped>\n",
       "    .dataframe tbody tr th:only-of-type {\n",
       "        vertical-align: middle;\n",
       "    }\n",
       "\n",
       "    .dataframe tbody tr th {\n",
       "        vertical-align: top;\n",
       "    }\n",
       "\n",
       "    .dataframe thead th {\n",
       "        text-align: right;\n",
       "    }\n",
       "</style>\n",
       "<table border=\"1\" class=\"dataframe\">\n",
       "  <thead>\n",
       "    <tr style=\"text-align: right;\">\n",
       "      <th></th>\n",
       "      <th>date</th>\n",
       "      <th>category</th>\n",
       "      <th>description</th>\n",
       "      <th>amount</th>\n",
       "    </tr>\n",
       "  </thead>\n",
       "  <tbody>\n",
       "    <tr>\n",
       "      <th>0</th>\n",
       "      <td>2024-11-03</td>\n",
       "      <td>auto</td>\n",
       "      <td>carnote PMT</td>\n",
       "      <td>500</td>\n",
       "    </tr>\n",
       "    <tr>\n",
       "      <th>1</th>\n",
       "      <td>2024-11-04</td>\n",
       "      <td>education</td>\n",
       "      <td>ACG subscription</td>\n",
       "      <td>35</td>\n",
       "    </tr>\n",
       "    <tr>\n",
       "      <th>2</th>\n",
       "      <td>2024-11-05</td>\n",
       "      <td>auto</td>\n",
       "      <td>wiper fluid</td>\n",
       "      <td>15</td>\n",
       "    </tr>\n",
       "  </tbody>\n",
       "</table>\n",
       "</div>"
      ],
      "text/plain": [
       "         date   category       description amount\n",
       "0  2024-11-03       auto       carnote PMT    500\n",
       "1  2024-11-04  education  ACG subscription     35\n",
       "2  2024-11-05       auto       wiper fluid     15"
      ]
     },
     "execution_count": 65,
     "metadata": {},
     "output_type": "execute_result"
    }
   ],
   "source": [
    "cat1 = None\n",
    "\n",
    "# add new transactions:\n",
    "obj = FinanceTracker(bud_amt)\n",
    "obj.add_transactions('2024-11-03', 'auto', 'carnote PMT', 500)\n",
    "obj.add_transactions('2024-11-04', 'education', 'ACG subscription', 35)\n",
    "obj.add_transactions('2024-11-05', 'auto', 'wiper fluid', 15)\n",
    "\n",
    "# view transactions:\n",
    "obj.get_transactions(category = cat1)\n"
   ]
  },
  {
   "cell_type": "code",
   "execution_count": 61,
   "metadata": {},
   "outputs": [
    {
     "name": "stdout",
     "output_type": "stream",
     "text": [
      "Balance comfortably within budget. Balance: 200\n"
     ]
    }
   ],
   "source": [
    "obj.get_budget_balance()"
   ]
  },
  {
   "cell_type": "code",
   "execution_count": 62,
   "metadata": {},
   "outputs": [
    {
     "name": "stdout",
     "output_type": "stream",
     "text": [
      "Total spending for auto category: 515\n"
     ]
    }
   ],
   "source": [
    "cat2 = 'auto'\n",
    "\n",
    "# view total spending by category:\n",
    "print(f\"Total spending for {cat2} category: {obj.get_total_spending(category = cat2)}\")"
   ]
  },
  {
   "cell_type": "code",
   "execution_count": null,
   "metadata": {},
   "outputs": [],
   "source": []
  }
 ],
 "metadata": {
  "kernelspec": {
   "display_name": "room",
   "language": "python",
   "name": "python3"
  },
  "language_info": {
   "codemirror_mode": {
    "name": "ipython",
    "version": 3
   },
   "file_extension": ".py",
   "mimetype": "text/x-python",
   "name": "python",
   "nbconvert_exporter": "python",
   "pygments_lexer": "ipython3",
   "version": "3.10.15"
  }
 },
 "nbformat": 4,
 "nbformat_minor": 2
}
