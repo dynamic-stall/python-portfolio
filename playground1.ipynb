{
 "cells": [
  {
   "cell_type": "code",
   "execution_count": 1,
   "metadata": {},
   "outputs": [],
   "source": [
    "# PRACTICE: iterate over vowels in name with 'oob'\n",
    "\n",
    "vowel = ['A','E','I','O','U','a','e','i','o','u']"
   ]
  },
  {
   "cell_type": "code",
   "execution_count": 179,
   "metadata": {},
   "outputs": [
    {
     "name": "stdout",
     "output_type": "stream",
     "text": [
      "Oobmoobndoob\n"
     ]
    }
   ],
   "source": [
    "# for loop, nested if statement... (capitalize() optional)\n",
    "\n",
    "name = 'amanda'\n",
    "\n",
    "new_name = ''\n",
    "\n",
    "for i in name:\n",
    "    if i in vowel:\n",
    "        new_name += 'oob'\n",
    "    else:\n",
    "        new_name += i\n",
    "print(new_name.capitalize())"
   ]
  },
  {
   "cell_type": "code",
   "execution_count": null,
   "metadata": {},
   "outputs": [
    {
     "name": "stdout",
     "output_type": "stream",
     "text": [
      "Thooboobphroobstoobs Boobmboobstoobs Hooboobnhooboobm\n"
     ]
    }
   ],
   "source": [
    "# let's take it a bit further...\n",
    "\n",
    "first = 'theophrastus'\n",
    "middle = 'bombastus'\n",
    "last = 'hoenheim'\n",
    "\n",
    "new_first = ''\n",
    "new_middle = ''\n",
    "new_last = ''\n",
    "\n",
    "for i in first:\n",
    "    if i in vowel:\n",
    "        new_first += 'oob'\n",
    "    else:\n",
    "        new_first += i\n",
    "\n",
    "for i in middle:\n",
    "    if i in vowel:\n",
    "        new_middle += 'oob'\n",
    "    else:\n",
    "        new_middle += i\n",
    "\n",
    "for i in last:\n",
    "    if i in vowel:\n",
    "        new_last += 'oob'\n",
    "    else:\n",
    "        new_last += i\n",
    "\n",
    "print(new_first.capitalize(), new_middle.capitalize(), new_last.capitalize())"
   ]
  },
  {
   "cell_type": "code",
   "execution_count": 12,
   "metadata": {},
   "outputs": [
    {
     "name": "stdout",
     "output_type": "stream",
     "text": [
      "Original Name: Izumi Curtis\n",
      "Modified Name: Oobzoobmoob Coobrtoobs\n"
     ]
    }
   ],
   "source": [
    "# And this... is to go... even further beyond...!\n",
    "\n",
    "first_name = input('What is your first name? ')\n",
    "last_name = input('What is your last name? ')\n",
    "\n",
    "def name_mod(first_name, last_name):\n",
    "\n",
    "    mod_first = ''\n",
    "    mod_last = ''\n",
    "\n",
    "    for i in first_name:\n",
    "        if i in vowel:\n",
    "            mod_first += 'oob'\n",
    "        else:\n",
    "            mod_first += i\n",
    "\n",
    "    for i in last_name:\n",
    "        if i in vowel:\n",
    "            mod_last += 'oob'\n",
    "        else:\n",
    "            mod_last += i\n",
    "\n",
    "    return(f'Modified Name: {mod_first.capitalize()} {mod_last.capitalize()}')\n",
    "\n",
    "result = name_mod(first_name, last_name)\n",
    "print(f'Original Name: {first_name} {last_name}\\n{result}')\n",
    "\n"
   ]
  },
  {
   "cell_type": "markdown",
   "metadata": {},
   "source": [
    "I didn't get this one (below) on my own..."
   ]
  },
  {
   "cell_type": "code",
   "execution_count": 251,
   "metadata": {},
   "outputs": [
    {
     "data": {
      "text/plain": [
       "'CCoCod'"
      ]
     },
     "execution_count": 251,
     "metadata": {},
     "output_type": "execute_result"
    }
   ],
   "source": [
    "str = 'Code'\n",
    "\n",
    "def string_splosion(str):\n",
    "  result = \"\"\n",
    "  # On each iteration, add the substring of the chars 0..i\n",
    "  for i in range(len(str)):\n",
    "    result = result + str[:i]\n",
    "  return result\n",
    "\n",
    "string_splosion(str)"
   ]
  },
  {
   "cell_type": "code",
   "execution_count": 259,
   "metadata": {},
   "outputs": [
    {
     "data": {
      "text/plain": [
       "[0, 4, 16, 36, 64, 100]"
      ]
     },
     "execution_count": 259,
     "metadata": {},
     "output_type": "execute_result"
    }
   ],
   "source": [
    "list_comp = [i**2 for i in range(0,11) if i%2==0]\n",
    "\n",
    "list_comp"
   ]
  },
  {
   "cell_type": "code",
   "execution_count": null,
   "metadata": {},
   "outputs": [
    {
     "data": {
      "text/plain": [
       "True"
      ]
     },
     "execution_count": 13,
     "metadata": {},
     "output_type": "execute_result"
    }
   ],
   "source": [
    "## INDEXING PRACTICE\n",
    "\n",
    "# Given an array of ints, return True if one of the first 4 elements in the array is a 9. The array length may be less than 4.\n",
    "\n",
    "# array_front9([1, 2, 9, 3, 4]) → True\n",
    "# array_front9([1, 2, 3, 4, 9]) → False\n",
    "# array_front9([1, 2, 3, 4, 5]) → False\n",
    "# array_front9([1, 9, 9]) → True\n",
    "# array_front9([1, 9]) → True\n",
    "# array_front9([5, 5]) → False\n",
    "# array_front9([]) → False\n",
    "# array_front9([1, 9]) → True\n",
    "\n",
    "nums = [1, 2, 9, 3, 4]\n",
    "\n",
    "def array_front9(nums):\n",
    "    for i in nums[:4]:\n",
    "        if i == 9:\n",
    "            return True\n",
    "    return False\n",
    "\n",
    "array_front9(nums)"
   ]
  },
  {
   "cell_type": "code",
   "execution_count": 168,
   "metadata": {},
   "outputs": [
    {
     "data": {
      "text/plain": [
       "3"
      ]
     },
     "execution_count": 168,
     "metadata": {},
     "output_type": "execute_result"
    }
   ],
   "source": [
    "## INDEXING PRACTICE, CONT.\n",
    "\n",
    "num = [1, 2, 3, 4, 5, 9, 9, 8, 7, 9]\n",
    "\n",
    "num.count(9)"
   ]
  },
  {
   "cell_type": "code",
   "execution_count": 172,
   "metadata": {},
   "outputs": [
    {
     "data": {
      "text/plain": [
       "3"
      ]
     },
     "execution_count": 172,
     "metadata": {},
     "output_type": "execute_result"
    }
   ],
   "source": [
    "def nine_count(num):\n",
    "    nines = 0\n",
    "    for i in num:\n",
    "        if i == 9:\n",
    "            nines += 1\n",
    "    return nines\n",
    "\n",
    "nine_count(num)"
   ]
  },
  {
   "cell_type": "markdown",
   "metadata": {},
   "source": [
    "(didn't solve the one below, either...)"
   ]
  },
  {
   "cell_type": "code",
   "execution_count": 49,
   "metadata": {},
   "outputs": [
    {
     "data": {
      "text/plain": [
       "True"
      ]
     },
     "execution_count": 49,
     "metadata": {},
     "output_type": "execute_result"
    }
   ],
   "source": [
    "## Given an array of ints, return True if the sequence of numbers 1, 2, 3 appears in the array somewhere.\n",
    "\n",
    "# array123([1, 1, 2, 3, 1]) → True\n",
    "# array123([1, 1, 2, 4, 1]) → False\n",
    "# array123([1, 1, 2, 1, 2, 3]) → True\n",
    "\n",
    "list1 = [1, 1, 2, 1, 2, 3]\n",
    "\n",
    "def senno(list1):\n",
    "    # NOTE: iterate with length-2 in order to use i+1 and i+2 in the loop\n",
    "    for i in range(len(list1) - 2):\n",
    "        if list1[i] == 1 and list1[i + 1] == 2 and list1[i + 2] == 3:\n",
    "            return True\n",
    "        else:\n",
    "            pass\n",
    "    return False\n",
    "\n",
    "senno(list1)\n"
   ]
  },
  {
   "cell_type": "code",
   "execution_count": 53,
   "metadata": {},
   "outputs": [
    {
     "data": {
      "text/plain": [
       "False"
      ]
     },
     "execution_count": 53,
     "metadata": {},
     "output_type": "execute_result"
    }
   ],
   "source": [
    "arr1 = [1, 1, 2, 1, 2, 3]\n",
    "\n",
    "def sequence(arr1):\n",
    "    for i in range(len(arr1)-2):\n",
    "        if arr1[i:i+2] == [1,2,3]:\n",
    "            return True\n",
    "        else:\n",
    "            pass\n",
    "    return False\n",
    "    \n",
    "sequence(arr1)"
   ]
  },
  {
   "cell_type": "markdown",
   "metadata": {},
   "source": [
    "23-Nov-2024: Currently stuck here... I don't wanna look up the solution yet..."
   ]
  },
  {
   "cell_type": "code",
   "execution_count": null,
   "metadata": {},
   "outputs": [],
   "source": [
    "# Given 2 strings, a and b, return the number of the positions where they contain the same length 2 substring.\n",
    "# So \"xxcaazz\" and \"xxbaaz\" yields 3, since the \"xx\", \"aa\", and \"az\" substrings appear in the same place in both strings.\n",
    "\n",
    "# string_match('xxcaazz', 'xxbaaz') → 3\n",
    "# string_match('abc', 'abc') → 2\n",
    "# string_match('abc', 'axc') → 0\n",
    "\n",
    "a = 'xxcaazz'\n",
    "b = 'xxbaaz'\n",
    "\n",
    "def string_match(a, b):\n",
    "    count = 0\n",
    "    for i in a, b:\n",
    "        if len(i) == 2:\n",
    "            count += 1\n",
    "\n",
    "string_match(a,b)"
   ]
  },
  {
   "cell_type": "code",
   "execution_count": 14,
   "metadata": {},
   "outputs": [],
   "source": [
    "# string_match, CONT.\n",
    "\n",
    "def test(a,b):\n",
    "    count = 0\n",
    "    for i in len(a) and i in b:\n",
    "        if a[i * 2] == b[i * 2]:\n",
    "            count += 1\n",
    "    return count"
   ]
  },
  {
   "cell_type": "code",
   "execution_count": 17,
   "metadata": {},
   "outputs": [
    {
     "name": "stdout",
     "output_type": "stream",
     "text": [
      "(0, 1)\n",
      "(1, 2)\n",
      "(2, 3)\n",
      "(3, 4)\n",
      "(4, 5)\n",
      "(5, 6)\n"
     ]
    }
   ],
   "source": [
    "## Q&A: how does enumerate() work in Python?\n",
    "# SPOILER: I figured it out (obvi)\n",
    "\n",
    "listx1 = [1,2,3,4,5,6]\n",
    "for i in enumerate(listx1):\n",
    "    print(i)"
   ]
  },
  {
   "cell_type": "code",
   "execution_count": 264,
   "metadata": {},
   "outputs": [
    {
     "name": "stdout",
     "output_type": "stream",
     "text": [
      "1\n",
      "2\n",
      "3\n",
      "4\n",
      "5\n",
      "6\n"
     ]
    }
   ],
   "source": [
    "listx1 = [1,2,3,4,5,6]\n",
    "for i,n in enumerate(listx1):\n",
    "    print(n)"
   ]
  },
  {
   "cell_type": "code",
   "execution_count": null,
   "metadata": {},
   "outputs": [
    {
     "data": {
      "text/plain": [
       "'Monkey D. Luffy'"
      ]
     },
     "execution_count": 18,
     "metadata": {},
     "output_type": "execute_result"
    }
   ],
   "source": [
    "# this may come in handy later...\n",
    "# (incomplete...)\n",
    "\n",
    "mc = input('Greatest MC of all time: ')\n",
    "\n",
    "def main_char(mc):\n",
    "\n",
    "    if mc is 'Monkey D. Luffy':\n",
    "        return(f'I\\'m the man who will surpass you... to become King of the Pirates!')\n",
    "    else:\n",
    "        pass\n",
    "\n",
    "    if mc is 'Naruto Uzumaki':\n",
    "\n",
    "    if mc == 'Son Goku' "
   ]
  },
  {
   "cell_type": "code",
   "execution_count": 16,
   "metadata": {},
   "outputs": [
    {
     "name": "stdout",
     "output_type": "stream",
     "text": [
      "One cannot gain without first giving something in return.\n",
      "To obtain, something of equal value must be lost. That is alchemy's First Law of Equivalent Exchange.\n"
     ]
    }
   ],
   "source": [
    "transmute = input('What is alchemy\\'s first law? ')\n",
    "print(f'One cannot gain without first giving something in return.\\nTo obtain, something of equal value must be lost. That is alchemy\\'s First Law of {transmute}.')"
   ]
  },
  {
   "cell_type": "markdown",
   "metadata": {},
   "source": [
    "### FizzBuzz, but better:"
   ]
  },
  {
   "cell_type": "code",
   "execution_count": 22,
   "metadata": {},
   "outputs": [
    {
     "name": "stdout",
     "output_type": "stream",
     "text": [
      "1\n",
      "2\n",
      "3 Fizz\n",
      "4\n",
      "5 Buzz\n",
      "6 Fizz\n",
      "7\n",
      "8\n",
      "9 Fizz\n",
      "10 Buzz\n",
      "11\n",
      "12 Fizz\n",
      "13\n",
      "14\n",
      "15 FizzBuzz\n",
      "16\n",
      "17\n",
      "18 Fizz\n",
      "19\n",
      "20 Buzz\n",
      "21 Fizz\n",
      "22\n",
      "23\n",
      "24 Fizz\n",
      "25 Buzz\n",
      "26\n",
      "27 Fizz\n",
      "28\n",
      "29\n",
      "30 FizzBuzz\n",
      "31\n",
      "32\n",
      "33 Fizz\n",
      "34\n",
      "35 Buzz\n",
      "36 Fizz\n",
      "37\n",
      "38\n",
      "39 Fizz\n",
      "40 Buzz\n",
      "41\n",
      "42 Fizz\n",
      "43\n",
      "44\n",
      "45 FizzBuzz\n",
      "46\n",
      "47\n",
      "48 Fizz\n",
      "49\n",
      "50 Buzz\n",
      "51 Fizz\n",
      "52\n",
      "53\n",
      "54 Fizz\n",
      "55 Buzz\n",
      "56\n",
      "57 Fizz\n",
      "58\n",
      "59\n",
      "60 FizzBuzz\n",
      "61\n",
      "62\n",
      "63 Fizz\n",
      "64\n",
      "65 Buzz\n",
      "66 Fizz\n",
      "67\n",
      "68\n",
      "69 Fizz\n",
      "70 Buzz\n",
      "71\n",
      "72 Fizz\n",
      "73\n",
      "74\n",
      "75 FizzBuzz\n",
      "76\n",
      "77\n",
      "78 Fizz\n",
      "79\n",
      "80 Buzz\n",
      "81 Fizz\n",
      "82\n",
      "83\n",
      "84 Fizz\n",
      "85 Buzz\n",
      "86\n",
      "87 Fizz\n",
      "88\n",
      "89\n",
      "90 FizzBuzz\n",
      "91\n",
      "92\n",
      "93 Fizz\n",
      "94\n",
      "95 Buzz\n",
      "96 Fizz\n",
      "97\n",
      "98\n",
      "99 Fizz\n",
      "100 Buzz\n"
     ]
    }
   ],
   "source": [
    "for i,n in enumerate(list(range(1,101))):\n",
    "    if n%3 == 0 and n%5 == 0:\n",
    "        print(i+1,'FizzBuzz')\n",
    "    elif n%3 == 0:\n",
    "        print(i+1,'Fizz')\n",
    "    elif n%5 == 0:\n",
    "        print(i+1,'Buzz')\n",
    "    else:\n",
    "        print(n)"
   ]
  },
  {
   "cell_type": "code",
   "execution_count": null,
   "metadata": {},
   "outputs": [
    {
     "name": "stdout",
     "output_type": "stream",
     "text": [
      "True\n",
      "True\n",
      "True\n",
      "False\n"
     ]
    }
   ],
   "source": [
    "## NOTE: 'is' vs '==' (vs '=')\n",
    "\n",
    "eks = [1, 2, 3]\n",
    "wiy = eks\n",
    "zee = [1, 2, 3]\n",
    "\n",
    "print(eks == wiy)  # TRUE, because x and y have the same value\n",
    "print(eks is wiy)  # TRUE, because x and y refer to the same object\n",
    "\n",
    "print(eks == zee)  # TRUE, because x and z have the same value\n",
    "print(eks is zee)  # FALSE, because x and z refer to different objects, even though their values are the same\n",
    "\n",
    "\n",
    "## Key Points:\n",
    "\n",
    "# --> is   (IDENTITY operator):  use to check if two variables are the same object\n",
    "# --> ==   (EQUALITY operator):  use to check if the values of two variables are equal\n",
    "# --> =  (ASSIGNMENT operator):  use to assign a value to a variable"
   ]
  },
  {
   "cell_type": "code",
   "execution_count": null,
   "metadata": {},
   "outputs": [
    {
     "data": {
      "text/plain": [
       "('Floe', 750)"
      ]
     },
     "execution_count": 48,
     "metadata": {},
     "output_type": "execute_result"
    }
   ],
   "source": [
    "## tuple unpacking:\n",
    "\n",
    "emp_sales = [('Jake', 550), ('Floe', 750), ('Kai', 440)]\n",
    "\n",
    "def eom(emp_sales):\n",
    "\n",
    "    current_max = 0\n",
    "    top_emp = ''\n",
    "\n",
    "    for emp_name,emp_nums in emp_sales:\n",
    "        if emp_nums > current_max:\n",
    "            current_max = emp_nums\n",
    "            top_emp = emp_name\n",
    "        else:\n",
    "            pass\n",
    "    return (top_emp, current_max)\n",
    "\n",
    "eom(emp_sales)"
   ]
  },
  {
   "cell_type": "code",
   "execution_count": null,
   "metadata": {},
   "outputs": [
    {
     "data": {
      "text/plain": [
       "tuple"
      ]
     },
     "execution_count": 50,
     "metadata": {},
     "output_type": "execute_result"
    }
   ],
   "source": [
    "## tuple unpacking, CONT.\n",
    "\n",
    "#type(eom(emp_sales))\n",
    "\n",
    "cosa = eom(emp_sales)\n",
    "type(cosa)"
   ]
  },
  {
   "cell_type": "code",
   "execution_count": 62,
   "metadata": {},
   "outputs": [
    {
     "name": "stdout",
     "output_type": "stream",
     "text": [
      "You guessed, 3...\n",
      "Wrong guess!\n",
      "['O', ' ', ' ']\n"
     ]
    }
   ],
   "source": [
    "## Interactions between functions - 3-Cup Monte Simulation:\n",
    "\n",
    "from random import shuffle\n",
    "\n",
    "og_list = [' ', 'O', ' ']\n",
    "\n",
    "def shufflist(og_list):\n",
    "    shuffle(og_list)\n",
    "    return og_list\n",
    "\n",
    "def player_guess():\n",
    "\n",
    "    guess = ''\n",
    "\n",
    "    while guess not in ['1', '2', '3']: # <-- error-handling\n",
    "        guess = input('Pick a number! 1, 2, or 3: ')\n",
    "\n",
    "    return int(guess) # <-- 'input()' always returns a str, so we convert to int here...\n",
    "\n",
    "def check_guess(guess_list, guess):\n",
    "    if guess_list[guess - 1] == 'O': # <-- code needs to refer to the index (0-2), but I ask for 1-3 for the less coding-inclined; ergo, subtraction to align w/ index\n",
    "        print(f'You guessed, {guess}...')\n",
    "        print('Correct!')\n",
    "    else:\n",
    "        print(f'You guessed, {guess}...')\n",
    "        print('Wrong guess!')\n",
    "        print(guess_list)\n",
    "\n",
    "\n",
    "# logic underneath functions...\n",
    "#og_list = [' ', 'O', ' ']\n",
    "guess_list = shufflist(og_list)\n",
    "guess = player_guess()\n",
    "check_guess(guess_list, guess)"
   ]
  },
  {
   "cell_type": "code",
   "execution_count": 66,
   "metadata": {},
   "outputs": [
    {
     "data": {
      "text/plain": [
       "[' ', 'O', ' ']"
      ]
     },
     "execution_count": 66,
     "metadata": {},
     "output_type": "execute_result"
    }
   ],
   "source": [
    "shufflist(og_list)"
   ]
  },
  {
   "cell_type": "code",
   "execution_count": null,
   "metadata": {},
   "outputs": [
    {
     "ename": "SyntaxError",
     "evalue": "invalid syntax (1456215836.py, line 8)",
     "output_type": "error",
     "traceback": [
      "\u001b[0;36m  Cell \u001b[0;32mIn[110], line 8\u001b[0;36m\u001b[0m\n\u001b[0;31m    counter += 1 while counter < 10\u001b[0m\n\u001b[0m                 ^\u001b[0m\n\u001b[0;31mSyntaxError\u001b[0m\u001b[0;31m:\u001b[0m invalid syntax\n"
     ]
    }
   ],
   "source": [
    "def myfunc(counter):\n",
    "\n",
    "    fib = []\n",
    "        \n",
    "    for i in fib:\n",
    "        while i < 200:\n",
    "            fib.append()\n",
    "\n",
    "myfunc(counter)"
   ]
  },
  {
   "cell_type": "code",
   "execution_count": null,
   "metadata": {},
   "outputs": [
    {
     "ename": "KeyboardInterrupt",
     "evalue": "",
     "output_type": "error",
     "traceback": [
      "\u001b[0;31m---------------------------------------------------------------------------\u001b[0m",
      "\u001b[0;31mKeyboardInterrupt\u001b[0m                         Traceback (most recent call last)",
      "Cell \u001b[0;32mIn[135], line 5\u001b[0m\n\u001b[1;32m      1\u001b[0m fibonacci \u001b[38;5;241m=\u001b[39m [\u001b[38;5;241m0\u001b[39m,\u001b[38;5;241m1\u001b[39m]\n\u001b[1;32m      3\u001b[0m fib_seq \u001b[38;5;241m=\u001b[39m fibonacci[\u001b[38;5;241m-\u001b[39m\u001b[38;5;241m1\u001b[39m] \u001b[38;5;241m+\u001b[39m fibonacci[\u001b[38;5;241m-\u001b[39m\u001b[38;5;241m2\u001b[39m]\n\u001b[0;32m----> 5\u001b[0m \u001b[38;5;28;01mwhile\u001b[39;00m fibonacci[\u001b[38;5;241m-\u001b[39m\u001b[38;5;241m1\u001b[39m] \u001b[38;5;241m<\u001b[39m \u001b[38;5;241m20\u001b[39m:\n\u001b[1;32m      6\u001b[0m     fibonacci\u001b[38;5;241m.\u001b[39mappend(fib_seq)\n\u001b[1;32m      7\u001b[0m fibonacci\n",
      "\u001b[0;31mKeyboardInterrupt\u001b[0m: "
     ]
    }
   ],
   "source": [
    "# testing the limits of my RPi4...\n",
    "\n",
    "fibonacci = [0,1]\n",
    "\n",
    "fib_seq = fibonacci[-1] + fibonacci[-2]\n",
    "\n",
    "while fibonacci[-1] < 200:\n",
    "    fibonacci.append(fib_seq)\n",
    "fibonacci"
   ]
  },
  {
   "cell_type": "code",
   "execution_count": 134,
   "metadata": {},
   "outputs": [
    {
     "name": "stdout",
     "output_type": "stream",
     "text": [
      "[0, 1, 1]\n"
     ]
    }
   ],
   "source": [
    "test3 = [0,1]\n",
    "test3.append(test3[-1] + test3[-2])\n",
    "print(test3)"
   ]
  },
  {
   "cell_type": "code",
   "execution_count": null,
   "metadata": {},
   "outputs": [
    {
     "name": "stdout",
     "output_type": "stream",
     "text": [
      "0 0\n",
      "0 1\n",
      "0 2\n",
      "0 3\n",
      "0 4\n",
      "1 0\n",
      "1 1\n",
      "1 2\n",
      "1 3\n",
      "1 4\n",
      "2 0\n",
      "2 1\n",
      "2 2\n",
      "2 3\n",
      "2 4\n",
      "3 0\n",
      "3 1\n",
      "3 2\n",
      "3 3\n",
      "3 4\n",
      "4 0\n",
      "4 1\n",
      "4 2\n",
      "4 3\n",
      "4 4\n",
      "5 0\n",
      "5 1\n",
      "5 2\n",
      "5 3\n",
      "5 4\n",
      "6 0\n",
      "6 1\n",
      "6 2\n",
      "6 3\n",
      "6 4\n",
      "7 0\n",
      "7 1\n",
      "7 2\n",
      "7 3\n",
      "7 4\n",
      "8 0\n",
      "8 1\n",
      "8 2\n",
      "8 3\n",
      "8 4\n",
      "9 0\n",
      "9 1\n",
      "9 2\n",
      "9 3\n",
      "9 4\n"
     ]
    }
   ],
   "source": [
    "## Nested for loop in while loop\n",
    "\n",
    "# use case: when you need to perform an indefinite number of iterations (until conditions = met) each with a fixed set of operations\n",
    "\n",
    "i = 0\n",
    "while i < 10:\n",
    "    for j in range(5):\n",
    "        print(i, j)\n",
    "    i += 1"
   ]
  },
  {
   "cell_type": "code",
   "execution_count": null,
   "metadata": {},
   "outputs": [
    {
     "name": "stdout",
     "output_type": "stream",
     "text": [
      "0 0\n",
      "0 1\n",
      "0 2\n",
      "0 3\n",
      "0 4\n",
      "0 5\n",
      "0 6\n",
      "0 7\n",
      "0 8\n",
      "0 9\n",
      "1 0\n",
      "1 1\n",
      "1 2\n",
      "1 3\n",
      "1 4\n",
      "1 5\n",
      "1 6\n",
      "1 7\n",
      "1 8\n",
      "1 9\n",
      "2 0\n",
      "2 1\n",
      "2 2\n",
      "2 3\n",
      "2 4\n",
      "2 5\n",
      "2 6\n",
      "2 7\n",
      "2 8\n",
      "2 9\n",
      "3 0\n",
      "3 1\n",
      "3 2\n",
      "3 3\n",
      "3 4\n",
      "3 5\n",
      "3 6\n",
      "3 7\n",
      "3 8\n",
      "3 9\n",
      "4 0\n",
      "4 1\n",
      "4 2\n",
      "4 3\n",
      "4 4\n",
      "4 5\n",
      "4 6\n",
      "4 7\n",
      "4 8\n",
      "4 9\n"
     ]
    }
   ],
   "source": [
    "## Nested while loop in for loop:\n",
    "\n",
    "# use case: when you need to perform a fixed number of iterations each with an indefinite number of operations (until conditions = met)\n",
    "\n",
    "for i in range(5):\n",
    "      j = 0\n",
    "      while j < 10:\n",
    "          print(i, j)\n",
    "          j += 1"
   ]
  },
  {
   "cell_type": "code",
   "execution_count": 175,
   "metadata": {},
   "outputs": [
    {
     "name": "stdout",
     "output_type": "stream",
     "text": [
      "29\n"
     ]
    },
    {
     "data": {
      "text/plain": [
       "'Goodbye'"
      ]
     },
     "execution_count": 175,
     "metadata": {},
     "output_type": "execute_result"
    }
   ],
   "source": [
    "from random import randint\n",
    "\n",
    "def myfunc():\n",
    "    rando = randint(1,101)\n",
    "    print(rando)\n",
    "    if rando %2 == 0:\n",
    "        return 'Hello'\n",
    "    else:\n",
    "        return 'Goodbye'\n",
    "\n",
    "myfunc()"
   ]
  },
  {
   "cell_type": "code",
   "execution_count": 72,
   "metadata": {},
   "outputs": [
    {
     "data": {
      "text/plain": [
       "'light'"
      ]
     },
     "execution_count": 72,
     "metadata": {},
     "output_type": "execute_result"
    }
   ],
   "source": [
    "from random import shuffle\n",
    "\n",
    "tod = ['day', 'night']\n",
    "\n",
    "def timeofday(tod):\n",
    "    shuffle(tod)\n",
    "    return tod\n",
    "\n",
    "z = timeofday(tod)\n",
    "\n",
    "def testfunc(x,y,z):\n",
    "    if z[0] == 'day':\n",
    "        return x\n",
    "    else:\n",
    "        return y\n",
    "\n",
    "x = 'light'\n",
    "y = 'dark'\n",
    "\n",
    "testfunc(z,x,y)"
   ]
  },
  {
   "cell_type": "code",
   "execution_count": 69,
   "metadata": {},
   "outputs": [],
   "source": [
    "## *args practice:\n",
    "\n",
    "# NOTE: args return a tuple... kwargs return a dictionary\n",
    "\n",
    "def only_evens(*args):\n",
    "    evens = []\n",
    "    for i in args:\n",
    "        if i %2 == 0:\n",
    "            evens.append(i)\n",
    "    return evens"
   ]
  },
  {
   "cell_type": "code",
   "execution_count": 71,
   "metadata": {},
   "outputs": [
    {
     "data": {
      "text/plain": [
       "[6, 8, 10]"
      ]
     },
     "execution_count": 71,
     "metadata": {},
     "output_type": "execute_result"
    }
   ],
   "source": [
    "only_evens(5,6,7,8,9,10)"
   ]
  },
  {
   "cell_type": "code",
   "execution_count": null,
   "metadata": {},
   "outputs": [],
   "source": [
    "## *kwargs practice:\n",
    "\n",
    "\n",
    "def upper_lower(**kwargs):\n",
    "    up_low = ''\n",
    "    for i in range(len(kwargs)):\n",
    "        if i %2 == 0:\n",
    "            up_low += kwargs[i]['letter'].lower()\n",
    "        else:\n",
    "            up_low += kwargs[i]['letter'].upper()\n",
    "    return up_low"
   ]
  },
  {
   "cell_type": "code",
   "execution_count": 116,
   "metadata": {},
   "outputs": [
    {
     "ename": "TypeError",
     "evalue": "unsupported operand type(s) for %: 'range' and 'int'",
     "output_type": "error",
     "traceback": [
      "\u001b[0;31m---------------------------------------------------------------------------\u001b[0m",
      "\u001b[0;31mTypeError\u001b[0m                                 Traceback (most recent call last)",
      "Cell \u001b[0;32mIn[116], line 1\u001b[0m\n\u001b[0;32m----> 1\u001b[0m \u001b[43mupper_lower\u001b[49m\u001b[43m(\u001b[49m\u001b[43mletter\u001b[49m\u001b[38;5;241;43m=\u001b[39;49m\u001b[38;5;124;43m'\u001b[39;49m\u001b[38;5;124;43mmachiavellianism\u001b[39;49m\u001b[38;5;124;43m'\u001b[39;49m\u001b[43m)\u001b[49m\n",
      "Cell \u001b[0;32mIn[115], line 7\u001b[0m, in \u001b[0;36mupper_lower\u001b[0;34m(**kwargs)\u001b[0m\n\u001b[1;32m      5\u001b[0m up_low \u001b[38;5;241m=\u001b[39m \u001b[38;5;124m'\u001b[39m\u001b[38;5;124m'\u001b[39m\n\u001b[1;32m      6\u001b[0m \u001b[38;5;28;01mfor\u001b[39;00m letter \u001b[38;5;129;01min\u001b[39;00m kwargs\u001b[38;5;241m.\u001b[39mvalues():\n\u001b[0;32m----> 7\u001b[0m     \u001b[38;5;28;01mif\u001b[39;00m \u001b[38;5;28;43mrange\u001b[39;49m\u001b[43m(\u001b[49m\u001b[38;5;28;43mlen\u001b[39;49m\u001b[43m(\u001b[49m\u001b[43mup_low\u001b[49m\u001b[43m)\u001b[49m\u001b[43m)\u001b[49m\u001b[43m \u001b[49m\u001b[38;5;241;43m%\u001b[39;49m\u001b[43m \u001b[49m\u001b[38;5;241;43m2\u001b[39;49m \u001b[38;5;241m==\u001b[39m \u001b[38;5;241m0\u001b[39m:\n\u001b[1;32m      8\u001b[0m         up_low \u001b[38;5;241m+\u001b[39m\u001b[38;5;241m=\u001b[39m letter\u001b[38;5;241m.\u001b[39mlower()\n\u001b[1;32m      9\u001b[0m     \u001b[38;5;28;01melse\u001b[39;00m:\n",
      "\u001b[0;31mTypeError\u001b[0m: unsupported operand type(s) for %: 'range' and 'int'"
     ]
    }
   ],
   "source": [
    "upper_lower(letter='machiavellianism')"
   ]
  },
  {
   "cell_type": "code",
   "execution_count": 43,
   "metadata": {},
   "outputs": [],
   "source": [
    "word = 'gastrointestinal'\n"
   ]
  },
  {
   "cell_type": "code",
   "execution_count": 74,
   "metadata": {},
   "outputs": [
    {
     "name": "stdout",
     "output_type": "stream",
     "text": [
      "G\n",
      "a\n",
      "S\n",
      "t\n",
      "R\n",
      "o\n",
      "I\n",
      "n\n",
      "T\n",
      "e\n",
      "S\n",
      "t\n",
      "I\n",
      "n\n",
      "A\n",
      "l\n"
     ]
    }
   ],
   "source": [
    "for i in range(len(word)):\n",
    "    if i %2 == 0:\n",
    "        print(word[i].upper())\n",
    "    else:\n",
    "        print(word[i].lower())"
   ]
  },
  {
   "cell_type": "code",
   "execution_count": 175,
   "metadata": {},
   "outputs": [],
   "source": [
    "def test_run(word):\n",
    "    mod_word = ''\n",
    "    for i in range(len(word)):\n",
    "        if i %2 != 0:\n",
    "            mod_word += word[i].upper()\n",
    "        else:\n",
    "            mod_word += word[i].lower()\n",
    "    return mod_word"
   ]
  },
  {
   "cell_type": "code",
   "execution_count": 176,
   "metadata": {},
   "outputs": [
    {
     "data": {
      "text/plain": [
       "'gAsTrOiNtEsTiNaL'"
      ]
     },
     "execution_count": 176,
     "metadata": {},
     "output_type": "execute_result"
    }
   ],
   "source": [
    "test_run(word)"
   ]
  },
  {
   "cell_type": "code",
   "execution_count": null,
   "metadata": {},
   "outputs": [],
   "source": [
    "# I don't know if this was ever meant to be solved with kwargs... but, I'm leaving it here for now...\n",
    "\n",
    "def upper_lower(**kwargs):\n",
    "    up_low = ''\n",
    "    for i in kwargs:\n",
    "        if i %2 != 0:\n",
    "            up_low += kwargs[i].lower()\n",
    "        else:\n",
    "            up_low += kwargs[i].upper()\n",
    "    return up_low\n",
    "\n",
    "#upper_lower(letter='machiavellianism')"
   ]
  },
  {
   "cell_type": "markdown",
   "metadata": {},
   "source": [
    "#### MASTER YODA: Given a sentence, return a sentence with the words reversed:"
   ]
  },
  {
   "cell_type": "code",
   "execution_count": 1,
   "metadata": {},
   "outputs": [],
   "source": [
    "def master_yoda(text):\n",
    "    c = text.split()[-1].capitalize()\n",
    "    ba = ''\n",
    "    for i in list(reversed(text.split()))[1:]:\n",
    "        if i == 'I':\n",
    "            ba = ' '.join([ba, i.upper()])\n",
    "        else:\n",
    "            ba = ' '.join([ba, i.lower()])\n",
    "    return ''.join([c, ba])"
   ]
  },
  {
   "cell_type": "code",
   "execution_count": 2,
   "metadata": {},
   "outputs": [
    {
     "data": {
      "text/plain": [
       "'Home am I'"
      ]
     },
     "execution_count": 2,
     "metadata": {},
     "output_type": "execute_result"
    }
   ],
   "source": [
    "# master_yoda() 1\n",
    "\n",
    "master_yoda('I am home')"
   ]
  },
  {
   "cell_type": "code",
   "execution_count": 3,
   "metadata": {},
   "outputs": [
    {
     "data": {
      "text/plain": [
       "'Ready are we'"
      ]
     },
     "execution_count": 3,
     "metadata": {},
     "output_type": "execute_result"
    }
   ],
   "source": [
    "# master_yoda() 2\n",
    "\n",
    "master_yoda('We are ready')"
   ]
  },
  {
   "cell_type": "code",
   "execution_count": 36,
   "metadata": {},
   "outputs": [
    {
     "data": {
      "text/plain": [
       "'work might This'"
      ]
     },
     "execution_count": 36,
     "metadata": {},
     "output_type": "execute_result"
    }
   ],
   "source": [
    "# master_yoda() 3\n",
    "# Technically, this would've done, but I like proper punctuation...\n",
    "\n",
    "testext = 'This might work'\n",
    "' '.join(list(reversed(testext.split())))"
   ]
  },
  {
   "cell_type": "code",
   "execution_count": 40,
   "metadata": {},
   "outputs": [
    {
     "data": {
      "text/plain": [
       "'work might This'"
      ]
     },
     "execution_count": 40,
     "metadata": {},
     "output_type": "execute_result"
    }
   ],
   "source": [
    "## NOTE: a better way... '[::-1]' <-- indexing in reverse... no need for 'list(reversed())'\n",
    "\n",
    "' '.join(testext.split()[::-1])"
   ]
  },
  {
   "cell_type": "code",
   "execution_count": 8,
   "metadata": {},
   "outputs": [
    {
     "data": {
      "text/plain": [
       "9"
      ]
     },
     "execution_count": 8,
     "metadata": {},
     "output_type": "execute_result"
    }
   ],
   "source": [
    "range(0,10)[-1]"
   ]
  },
  {
   "cell_type": "code",
   "execution_count": null,
   "metadata": {},
   "outputs": [],
   "source": []
  },
  {
   "cell_type": "code",
   "execution_count": null,
   "metadata": {},
   "outputs": [],
   "source": []
  },
  {
   "cell_type": "code",
   "execution_count": null,
   "metadata": {},
   "outputs": [
    {
     "data": {
      "text/plain": [
       "True"
      ]
     },
     "execution_count": 17,
     "metadata": {},
     "output_type": "execute_result"
    }
   ],
   "source": [
    "## within 10 of:\n",
    "\n",
    "def almost_there(n):\n",
    "    if 110 >= n >= 90 or 210 >= n >= 190:\n",
    "        return True\n",
    "    else:\n",
    "        return False\n",
    "\n",
    "almost_there(205)"
   ]
  },
  {
   "cell_type": "code",
   "execution_count": null,
   "metadata": {},
   "outputs": [
    {
     "name": "stdout",
     "output_type": "stream",
     "text": [
      "True\n",
      "True\n",
      "False\n",
      "False\n"
     ]
    }
   ],
   "source": [
    "## within 10 of - *args:\n",
    "\n",
    "def casi_alla(*args):\n",
    "    for n in args:\n",
    "        if 110 >= n >= 90 or 210 >= n >= 190:\n",
    "            print(True)\n",
    "        else:\n",
    "            print(False)\n",
    "\n",
    "casi_alla(205, 106, 80, 222)"
   ]
  },
  {
   "cell_type": "markdown",
   "metadata": {},
   "source": [
    "#### NOTE: this one below is easier than the one up above _(\"find [1, 2, 3]\")_ I couldn't solve on my own, but demonstrates my growth; ESPECIALLY growth in the span of roughly 24 hours...\n"
   ]
  },
  {
   "cell_type": "code",
   "execution_count": 30,
   "metadata": {},
   "outputs": [],
   "source": [
    "## given a list of ints, return True if the array contains a 3 next to a 3 somewhere...\n",
    "\n",
    "def has_33(nums):\n",
    "    for i in nums:\n",
    "        if nums[i - 1] == 3 or nums[i + 1] == 3:\n",
    "            return True\n",
    "        else:\n",
    "            return False"
   ]
  },
  {
   "cell_type": "code",
   "execution_count": 31,
   "metadata": {},
   "outputs": [
    {
     "data": {
      "text/plain": [
       "True"
      ]
     },
     "execution_count": 31,
     "metadata": {},
     "output_type": "execute_result"
    }
   ],
   "source": [
    "# Check X\n",
    "has_33([1, 3, 3])"
   ]
  },
  {
   "cell_type": "code",
   "execution_count": 32,
   "metadata": {},
   "outputs": [
    {
     "data": {
      "text/plain": [
       "False"
      ]
     },
     "execution_count": 32,
     "metadata": {},
     "output_type": "execute_result"
    }
   ],
   "source": [
    "# Check Y\n",
    "has_33([1, 3, 1, 3])"
   ]
  },
  {
   "cell_type": "code",
   "execution_count": 44,
   "metadata": {},
   "outputs": [],
   "source": [
    "#alternate:\n",
    "def three_three(nums):\n",
    "    for i in range(0,len(nums)-1):\n",
    "        return nums[i:i+2] == [3,3]"
   ]
  },
  {
   "cell_type": "code",
   "execution_count": 46,
   "metadata": {},
   "outputs": [
    {
     "data": {
      "text/plain": [
       "False"
      ]
     },
     "execution_count": 46,
     "metadata": {},
     "output_type": "execute_result"
    }
   ],
   "source": [
    "three_three([1, 3, 3])"
   ]
  },
  {
   "cell_type": "code",
   "execution_count": 33,
   "metadata": {},
   "outputs": [],
   "source": [
    "## BLACKJACK: Given three integers between 1 and 11, if their sum is less than or equal to 21, return their sum. If their sum exceeds 21 *and* there's an eleven, reduce the total sum by 10. Finally, if the sum (even after adjustment) exceeds 21, return 'BUST'\n",
    "    # blackjack(5,6,7) --> 18\n",
    "    # blackjack(9,9,9) --> 'BUST'\n",
    "    # blackjack(9,9,11) --> 19\n",
    "\n",
    "def blackjack(a,b,c):\n",
    "    hand = a+b+c\n",
    "    if a == 11 or b == 11 or c == 11:\n",
    "        hand = hand - 10\n",
    "    if hand <= 21:\n",
    "        return hand\n",
    "    elif hand > 21:\n",
    "        return 'BUST'"
   ]
  },
  {
   "cell_type": "code",
   "execution_count": 34,
   "metadata": {},
   "outputs": [
    {
     "data": {
      "text/plain": [
       "18"
      ]
     },
     "execution_count": 34,
     "metadata": {},
     "output_type": "execute_result"
    }
   ],
   "source": [
    "blackjack(5,6,7)"
   ]
  },
  {
   "cell_type": "code",
   "execution_count": null,
   "metadata": {},
   "outputs": [],
   "source": []
  },
  {
   "cell_type": "code",
   "execution_count": null,
   "metadata": {},
   "outputs": [],
   "source": []
  },
  {
   "cell_type": "markdown",
   "metadata": {},
   "source": [
    "#### Letters as *'s"
   ]
  },
  {
   "cell_type": "code",
   "execution_count": null,
   "metadata": {},
   "outputs": [],
   "source": [
    "letter_patterns = {\n",
    "    'A': [\n",
    "        \"  *  \",\n",
    "        \" * * \",\n",
    "        \"*   *\",\n",
    "        \"*****\",\n",
    "        \"*   *\",\n",
    "        \"*   *\"\n",
    "    ],\n",
    "    'B': [\n",
    "        \"**** \",\n",
    "        \"*   *\",\n",
    "        \"**** \",\n",
    "        \"*   *\",\n",
    "        \"*   *\",\n",
    "        \"**** \"\n",
    "    ],\n",
    "    'C': [\n",
    "        \" ****\",\n",
    "        \"*    \",\n",
    "        \"*    \",\n",
    "        \"*    \",\n",
    "        \"*    \",\n",
    "        \" ****\"\n",
    "    ],\n",
    "    'D': [\n",
    "        \"**** \",\n",
    "        \"*   *\",\n",
    "        \"*   *\",\n",
    "        \"*   *\",\n",
    "        \"*   *\",\n",
    "        \"**** \"\n",
    "    ],\n",
    "    'E': [\n",
    "        \"*****\",\n",
    "        \"*    \",\n",
    "        \"**** \",\n",
    "        \"*    \",\n",
    "        \"*    \",\n",
    "        \"*****\"\n",
    "    ],\n",
    "    'F': [\n",
    "        \"*****\",\n",
    "        \"*    \",\n",
    "        \"**** \",\n",
    "        \"*    \",\n",
    "        \"*    \",\n",
    "        \"*    \"\n",
    "    ],\n",
    "   'G': [\n",
    "        \" ****\",\n",
    "        \"*    \",\n",
    "        \"*  **\",\n",
    "        \"*   *\",\n",
    "        \"*   *\",\n",
    "        \" ****\"\n",
    "    ],\n",
    "    'H': [\n",
    "        \"*   *\",\n",
    "        \"*   *\",\n",
    "        \"*****\",\n",
    "        \"*   *\",\n",
    "        \"*   *\",\n",
    "        \"*   *\"\n",
    "    ],\n",
    "    'I': [\n",
    "        \"*****\",\n",
    "        \"  *  \",\n",
    "        \"  *  \",\n",
    "        \"  *  \",\n",
    "        \"  *  \",\n",
    "        \"*****\"\n",
    "    ],\n",
    "    'J': [\n",
    "        \"*****\",\n",
    "        \"    *\",\n",
    "        \"    *\",\n",
    "        \"    *\",\n",
    "        \"*   *\",\n",
    "        \" *** \"\n",
    "    ],\n",
    "    'K': [\n",
    "        \"*   *\",\n",
    "        \"*  * \",\n",
    "        \"**   \",\n",
    "        \"*  * \",\n",
    "        \"*   *\",\n",
    "        \"*    *\"\n",
    "    ],\n",
    "    'L': [\n",
    "        \"*    \",\n",
    "        \"*    \",\n",
    "        \"*    \",\n",
    "        \"*    \",\n",
    "        \"*    \",\n",
    "        \"*****\"\n",
    "    ],\n",
    "    'M': [\n",
    "        \"*   *\",\n",
    "        \"** **\",\n",
    "        \"* * *\",\n",
    "        \"*   *\",\n",
    "        \"*   *\",\n",
    "        \"*   *\"\n",
    "    ],\n",
    "    'N': [\n",
    "        \"*   *\",\n",
    "        \"**  *\",\n",
    "        \"* * *\",\n",
    "        \"*  **\",\n",
    "        \"*   *\",\n",
    "        \"*   *\"\n",
    "    ],\n",
    "    'O': [\n",
    "        \" *** \",\n",
    "        \"*   *\",\n",
    "        \"*   *\",\n",
    "        \"*   *\",\n",
    "        \"*   *\",\n",
    "        \" *** \"\n",
    "    ],\n",
    "    'P': [\n",
    "        \"**** \",\n",
    "        \"*   *\",\n",
    "        \"**** \",\n",
    "        \"*    \",\n",
    "        \"*    \",\n",
    "        \"*    \"\n",
    "    ],\n",
    "    'Q': [\n",
    "        \" *** \",\n",
    "        \"*   *\",\n",
    "        \"*   *\",\n",
    "        \"*   *\",\n",
    "        \"*  **\",\n",
    "        \" ****\"\n",
    "    ],\n",
    "    'R': [\n",
    "        \"**** \",\n",
    "        \"*   *\",\n",
    "        \"**** \",\n",
    "        \"*  * \",\n",
    "        \"*   *\",\n",
    "        \"*    *\"\n",
    "    ],\n",
    "    'S': [\n",
    "        \" ****\",\n",
    "        \"*    \",\n",
    "        \" ****\",\n",
    "        \"    *\",\n",
    "        \"    *\",\n",
    "        \" ****\"\n",
    "    ],\n",
    "    'T': [\n",
    "        \"*****\",\n",
    "        \"  *  \",\n",
    "        \"  *  \",\n",
    "        \"  *  \",\n",
    "        \"  *  \",\n",
    "        \"  *  \"\n",
    "    ],\n",
    "    'U': [\n",
    "        \"*   *\",\n",
    "        \"*   *\",\n",
    "        \"*   *\",\n",
    "        \"*   *\",\n",
    "        \"*   *\",\n",
    "        \" *** \"\n",
    "    ],\n",
    "    'V': [\n",
    "        \"*   *\",\n",
    "        \"*   *\",\n",
    "        \"*   *\",\n",
    "        \" * * \",\n",
    "        \" * * \",\n",
    "        \"  *  \"\n",
    "    ],\n",
    "    'W': [\n",
    "        \"*   *\",\n",
    "        \"*   *\",\n",
    "        \"*   *\",\n",
    "        \"* * *\",\n",
    "        \"** **\",\n",
    "        \"*   *\"\n",
    "    ],\n",
    "    'X': [\n",
    "        \"*   *\",\n",
    "        \" * * \",\n",
    "        \"  *  \",\n",
    "        \" * * \",\n",
    "        \"*   *\",\n",
    "    ],\n",
    "    'Y': [\n",
    "        \"*   *\",\n",
    "        \" * * \",\n",
    "        \"  *  \",\n",
    "        \"  *  \",\n",
    "        \"  *  \",\n",
    "        \"  *  \"\n",
    "    ],\n",
    "    'Z': [\n",
    "        \"*****\",\n",
    "        \"   * \",\n",
    "        \"  *  \",\n",
    "        \" *   \",\n",
    "        \"*    \",\n",
    "        \"*****\"\n",
    "    ]\n",
    "}\n",
    "\n",
    "# Function to print a letter as stars\n",
    "def print_letter(letter):\n",
    "    letter = letter.upper()  # Ensure the letter is uppercase\n",
    "    if letter in letter_patterns:\n",
    "        for line in letter_patterns[letter]:\n",
    "            print(line)\n",
    "    else:\n",
    "        print(\"Letter not in dictionary!\")\n",
    "\n",
    "def transpose(letter):\n",
    "\n",
    "    "
   ]
  },
  {
   "cell_type": "code",
   "execution_count": 1,
   "metadata": {},
   "outputs": [],
   "source": [
    "def squared(nums):\n",
    "    return nums**2"
   ]
  },
  {
   "cell_type": "markdown",
   "metadata": {},
   "source": [
    "#### Map function:\n"
   ]
  },
  {
   "cell_type": "code",
   "execution_count": null,
   "metadata": {},
   "outputs": [
    {
     "name": "stdout",
     "output_type": "stream",
     "text": [
      "1\n",
      "4\n",
      "9\n",
      "16\n",
      "25\n"
     ]
    }
   ],
   "source": [
    "## The map() function applies a given function to each item of an iterable (like a list, tuple, etc.) and returns an iterator containing the results.\n",
    "\n",
    "my_nums = [1,2,3,4,5]\n",
    "\n",
    "for i in map(squared,my_nums):\n",
    "    print(i)"
   ]
  },
  {
   "cell_type": "code",
   "execution_count": 9,
   "metadata": {},
   "outputs": [],
   "source": [
    "def splicer(string):\n",
    "    if len(string)%2 == 0:\n",
    "        return 'EVEN'\n",
    "    else:\n",
    "        return string[0]"
   ]
  },
  {
   "cell_type": "code",
   "execution_count": 25,
   "metadata": {},
   "outputs": [
    {
     "data": {
      "text/plain": [
       "['L', 'EVEN', 'T', 'B']"
      ]
     },
     "execution_count": 25,
     "metadata": {},
     "output_type": "execute_result"
    }
   ],
   "source": [
    "yonko = ['Luffy', 'Shanks', 'Teach', 'Buggy']\n",
    "\n",
    "list(map(splicer,yonko))"
   ]
  },
  {
   "cell_type": "markdown",
   "metadata": {},
   "source": [
    "#### Filter Function:"
   ]
  },
  {
   "cell_type": "code",
   "execution_count": 2,
   "metadata": {},
   "outputs": [],
   "source": [
    "## The filter() function in Python is a built-in function that allows you to filter an iterable (like a list, tuple, or set) based on a given condition.\n",
    "\n",
    "def chk_even(num):\n",
    "    return num%2 == 0"
   ]
  },
  {
   "cell_type": "code",
   "execution_count": 7,
   "metadata": {},
   "outputs": [
    {
     "data": {
      "text/plain": [
       "[2, 4, 6, 8]"
      ]
     },
     "execution_count": 7,
     "metadata": {},
     "output_type": "execute_result"
    }
   ],
   "source": [
    "new_nums = [1,2,3,4,5,6,7,8]\n",
    "\n",
    "list(filter(chk_even,new_nums))"
   ]
  },
  {
   "cell_type": "code",
   "execution_count": null,
   "metadata": {},
   "outputs": [
    {
     "name": "stdout",
     "output_type": "stream",
     "text": [
      "2\n",
      "4\n",
      "6\n",
      "8\n"
     ]
    }
   ],
   "source": [
    "for i in filter(chk_even,new_nums):\n",
    "    print(i)"
   ]
  },
  {
   "cell_type": "markdown",
   "metadata": {},
   "source": [
    "#### Lambda Expressions:"
   ]
  },
  {
   "cell_type": "code",
   "execution_count": 19,
   "metadata": {},
   "outputs": [
    {
     "data": {
      "text/plain": [
       "(<function __main__.<lambda>(qik)>, [1, 2, 3, 4, 5, 6, 7, 8])"
      ]
     },
     "execution_count": 19,
     "metadata": {},
     "output_type": "execute_result"
    }
   ],
   "source": [
    "## A lambda function is a small anonymous function. A lambda function can take any number of arguments, but can only have one expression.\n",
    "## It's a way to create a function quickly and concisely without using the def keyword...\n",
    "\n",
    "lambda qik:qik**2,new_nums"
   ]
  },
  {
   "cell_type": "code",
   "execution_count": null,
   "metadata": {},
   "outputs": [
    {
     "data": {
      "text/plain": [
       "[1, 4, 9, 16, 25, 36, 49, 64]"
      ]
     },
     "execution_count": 20,
     "metadata": {},
     "output_type": "execute_result"
    }
   ],
   "source": [
    "## lambda w/ map()\n",
    "list(map(lambda qik:qik ** 2,new_nums))"
   ]
  },
  {
   "cell_type": "code",
   "execution_count": 23,
   "metadata": {},
   "outputs": [
    {
     "data": {
      "text/plain": [
       "[2, 4, 6, 8]"
      ]
     },
     "execution_count": 23,
     "metadata": {},
     "output_type": "execute_result"
    }
   ],
   "source": [
    "## lambda w/ filter()\n",
    "\n",
    "# turn def() in lambda:\n",
    "\n",
    "#def chk_even(num):\n",
    "    #return num%2 == 0\n",
    "\n",
    "# ---> ---> ---> becomes:\n",
    "\n",
    "#lambda num:num%2 == 0\n",
    "\n",
    "list(filter(lambda num:num%2 == 0,new_nums))"
   ]
  },
  {
   "cell_type": "code",
   "execution_count": 35,
   "metadata": {},
   "outputs": [
    {
     "data": {
      "text/plain": [
       "['Luffy', 'Shanks', 'Teach', 'Buggy']"
      ]
     },
     "execution_count": 35,
     "metadata": {},
     "output_type": "execute_result"
    }
   ],
   "source": [
    "list(map(lambda top:top[::],yonko))"
   ]
  },
  {
   "cell_type": "markdown",
   "metadata": {},
   "source": [
    "#### Nested Statements and Scope:"
   ]
  },
  {
   "cell_type": "code",
   "execution_count": 36,
   "metadata": {},
   "outputs": [],
   "source": [
    "x = 25\n",
    "def printer():\n",
    "    x = 50\n",
    "    return x"
   ]
  },
  {
   "cell_type": "code",
   "execution_count": null,
   "metadata": {},
   "outputs": [
    {
     "name": "stdout",
     "output_type": "stream",
     "text": [
      "25\n"
     ]
    }
   ],
   "source": [
    "print(x)\n"
   ]
  },
  {
   "cell_type": "markdown",
   "metadata": {},
   "source": [
    "**LEGB Rule:**\n",
    "\n",
    "L: Local — Names assigned in any way within a function (def or lambda), and not declared global in that function.\n",
    "\n",
    "E: Enclosing function locals — Names in the local scope of any and all enclosing functions (def or lambda), from inner to outer.\n",
    "\n",
    "G: Global (module) — Names assigned at the top-level of a module file, or declared global in a def within the file.\n",
    "\n",
    "B: Built-in (Python) — Names preassigned in the built-in names module : open, range, SyntaxError,..."
   ]
  },
  {
   "cell_type": "code",
   "execution_count": null,
   "metadata": {},
   "outputs": [],
   "source": [
    "## Q&A: how to use clear_output() method?"
   ]
  },
  {
   "cell_type": "code",
   "execution_count": null,
   "metadata": {},
   "outputs": [],
   "source": []
  }
 ],
 "metadata": {
  "kernelspec": {
   "display_name": "nassau",
   "language": "python",
   "name": "python3"
  },
  "language_info": {
   "codemirror_mode": {
    "name": "ipython",
    "version": 3
   },
   "file_extension": ".py",
   "mimetype": "text/x-python",
   "name": "python",
   "nbconvert_exporter": "python",
   "pygments_lexer": "ipython3",
   "version": "3.10.15"
  }
 },
 "nbformat": 4,
 "nbformat_minor": 2
}
